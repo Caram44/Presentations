{
 "cells": [
  {
   "cell_type": "markdown",
   "metadata": {
    "collapsed": true,
    "nbpresent": {
     "id": "5e2b6a92-c8ad-4b14-b5a0-98043a744573"
    },
    "slideshow": {
     "slide_type": "slide"
    }
   },
   "source": [
    "# Presentation outline\n",
    "- Installing Python and running python\n",
    "- A very brief introduction \n",
    "- Modules I am familiar with: numpy, pandas, matplotlib\n",
    "- Useful modules I would like to learn about: Scipy, quantecon, \n",
    "- A plan for the user group"
   ]
  },
  {
   "cell_type": "markdown",
   "metadata": {
    "slideshow": {
     "slide_type": "slide"
    }
   },
   "source": [
    "# Why python?\n",
    "\n",
    "<img src='images/punch_cards.png'>\n"
   ]
  },
  {
   "cell_type": "markdown",
   "metadata": {
    "slideshow": {
     "slide_type": "slide"
    }
   },
   "source": [
    "# Installing Python and running \n",
    "- anaconda https://www.continuum.io/downloads\n",
    "- jupyter notebook \n",
    "- Spyder https://pythonhosted.org/spyder/\n",
    "- ipython \n",
    "- text editor: https://atom.io/, others \n",
    "\n"
   ]
  },
  {
   "cell_type": "markdown",
   "metadata": {
    "collapsed": false,
    "slideshow": {
     "slide_type": "slide"
    }
   },
   "source": [
    "# What is python?\n",
    "- object oriented programing \n",
    "- higher level language (indpendent of type of computer)\n",
    "- Python is interpreted, not compiled \n",
    "- Open source \n",
    "- Modules \n"
   ]
  },
  {
   "cell_type": "markdown",
   "metadata": {
    "slideshow": {
     "slide_type": "slide"
    }
   },
   "source": [
    "# Object oriented \n",
    "- objects in python contain data - attributes \n",
    "    - an object usually has many attributes\n",
    "- Methods operate on the data in an object \n",
    "- Create objects and methods with Classes \n",
    "    \n"
   ]
  },
  {
   "cell_type": "markdown",
   "metadata": {
    "slideshow": {
     "slide_type": "slide"
    }
   },
   "source": [
    "# Resources\n",
    "- https://www.kevinsheppard.com/Python_for_Econometrics\n",
    "- https://lectures.quantecon.org/py/index.html\n"
   ]
  },
  {
   "cell_type": "markdown",
   "metadata": {
    "slideshow": {
     "slide_type": "slide"
    }
   },
   "source": [
    "# Python data types \n",
    "- numeric: float, int, complex \n",
    "- text: string \n",
    "- sequences: list, tuples, range \n",
    "- mappings: dictionaries \n",
    "- sets \n"
   ]
  },
  {
   "cell_type": "markdown",
   "metadata": {
    "slideshow": {
     "slide_type": "slide"
    }
   },
   "source": [
    "## Examples text"
   ]
  },
  {
   "cell_type": "code",
   "execution_count": 4,
   "metadata": {
    "collapsed": false,
    "slideshow": {
     "slide_type": "fragment"
    }
   },
   "outputs": [],
   "source": [
    "greet = 'hello'\n",
    "name = ' Cara'\n",
    "greet + name \n",
    "greet[0]\n",
    "greet.count('l')\n",
    "greet = 'hello hello '"
   ]
  },
  {
   "cell_type": "markdown",
   "metadata": {
    "slideshow": {
     "slide_type": "slide"
    }
   },
   "source": [
    "## Examples numeric"
   ]
  },
  {
   "cell_type": "code",
   "execution_count": 6,
   "metadata": {
    "collapsed": false,
    "slideshow": {
     "slide_type": "fragment"
    }
   },
   "outputs": [
    {
     "name": "stdout",
     "output_type": "stream",
     "text": [
      "<class 'int'>\n",
      "<class 'float'>\n"
     ]
    },
    {
     "data": {
      "text/plain": [
       "2.0"
      ]
     },
     "execution_count": 6,
     "metadata": {},
     "output_type": "execute_result"
    }
   ],
   "source": [
    "x = 4\n",
    "z = 2\n",
    "y = 4.\n",
    "q = 2.\n",
    "print(type(x))\n",
    "print(type(y))\n",
    "# some arithmatic \n",
    "x/z\n",
    "y/q"
   ]
  },
  {
   "cell_type": "markdown",
   "metadata": {
    "slideshow": {
     "slide_type": "slide"
    }
   },
   "source": [
    "## Examples - lists and tuples and sets"
   ]
  },
  {
   "cell_type": "code",
   "execution_count": 16,
   "metadata": {
    "collapsed": false,
    "slideshow": {
     "slide_type": "fragment"
    }
   },
   "outputs": [
    {
     "data": {
      "text/plain": [
       "3"
      ]
     },
     "execution_count": 16,
     "metadata": {},
     "output_type": "execute_result"
    }
   ],
   "source": [
    "list_1 = [1, 2, 3, 4]\n",
    "list_2 = ['a', 'b', 'c']\n",
    "list_1[0] = 'q'\n",
    "list_1.append(5)\n",
    "list_1\n",
    "list_1 + list_2\n",
    "list_3 = [list_1, list_2]\n",
    "list_3\n",
    "list_2.count('b ')\n",
    "tup = (1, 2, 3)\n",
    "tup[2]\n",
    "#tup[2] = 4"
   ]
  },
  {
   "cell_type": "markdown",
   "metadata": {
    "slideshow": {
     "slide_type": "slide"
    }
   },
   "source": [
    "### Warning "
   ]
  },
  {
   "cell_type": "code",
   "execution_count": 17,
   "metadata": {
    "collapsed": false,
    "slideshow": {
     "slide_type": "fragment"
    }
   },
   "outputs": [],
   "source": [
    "#Be careful if you want to copy\n",
    "list_3 = list_1\n",
    "list_3[0] = 'suprise!'\n",
    "list_1\n",
    "list_3 = list_1.copy?"
   ]
  },
  {
   "cell_type": "code",
   "execution_count": null,
   "metadata": {
    "collapsed": true
   },
   "outputs": [],
   "source": [
    "list_3 = list_1.copy"
   ]
  },
  {
   "cell_type": "markdown",
   "metadata": {
    "slideshow": {
     "slide_type": "slide"
    }
   },
   "source": [
    "## Dictionaries "
   ]
  },
  {
   "cell_type": "code",
   "execution_count": 25,
   "metadata": {
    "collapsed": false,
    "slideshow": {
     "slide_type": "fragment"
    }
   },
   "outputs": [
    {
     "data": {
      "text/plain": [
       "{'Angola': [1990, 2000], 'France': [1981, 1992], 'Germany': [1956, 1972, 1981]}"
      ]
     },
     "execution_count": 25,
     "metadata": {},
     "output_type": "execute_result"
    }
   ],
   "source": [
    "countries = {'France':[1981, 1992], 'Germany': [1956, 1972, 1981]}\n",
    "#print(countries)\n",
    "#print(countries.keys())\n",
    "#countries.values()\n",
    "\n",
    "countries['Angola'] = [1990, 2000]\n",
    "countries\n"
   ]
  },
  {
   "cell_type": "markdown",
   "metadata": {
    "slideshow": {
     "slide_type": "slide"
    }
   },
   "source": [
    "# Loops and if statements "
   ]
  },
  {
   "cell_type": "code",
   "execution_count": 26,
   "metadata": {
    "collapsed": false,
    "slideshow": {
     "slide_type": "fragment"
    }
   },
   "outputs": [
    {
     "name": "stdout",
     "output_type": "stream",
     "text": [
      "Germany\n",
      "France\n",
      "Angola\n"
     ]
    }
   ],
   "source": [
    "#loop over list\n",
    "for country in countries:\n",
    "    print(country)\n",
    "\n"
   ]
  },
  {
   "cell_type": "code",
   "execution_count": 28,
   "metadata": {
    "collapsed": false,
    "slideshow": {
     "slide_type": "fragment"
    }
   },
   "outputs": [
    {
     "name": "stdout",
     "output_type": "stream",
     "text": [
      "no\n"
     ]
    }
   ],
   "source": [
    "\n",
    "# if statements \n",
    "if 'USA' in countries:\n",
    "    print('yes')\n",
    "else:\n",
    "    print('no')"
   ]
  },
  {
   "cell_type": "code",
   "execution_count": 8,
   "metadata": {
    "collapsed": true,
    "slideshow": {
     "slide_type": "fragment"
    }
   },
   "outputs": [],
   "source": [
    "#See CH 13 Shepard "
   ]
  },
  {
   "cell_type": "markdown",
   "metadata": {
    "slideshow": {
     "slide_type": "slide"
    }
   },
   "source": [
    "# Functions"
   ]
  },
  {
   "cell_type": "code",
   "execution_count": 29,
   "metadata": {
    "collapsed": true,
    "slideshow": {
     "slide_type": "fragment"
    }
   },
   "outputs": [],
   "source": [
    "# u(x,y) = a*log(x) + log(y)\n",
    "#max u given px, py and w, a\n",
    "\n",
    "def umax(px, py, w, a):\n",
    "    x = a*w/(px*(1+a))\n",
    "    y = w - px*x\n",
    "    return [x,y]"
   ]
  },
  {
   "cell_type": "code",
   "execution_count": 32,
   "metadata": {
    "collapsed": false,
    "slideshow": {
     "slide_type": "fragment"
    }
   },
   "outputs": [
    {
     "data": {
      "text/plain": [
       "6.666666666666666"
      ]
     },
     "execution_count": 32,
     "metadata": {},
     "output_type": "execute_result"
    }
   ],
   "source": [
    "[x, y] = umax(1, 1, 10, .5)\n",
    "x\n",
    "y"
   ]
  },
  {
   "cell_type": "markdown",
   "metadata": {
    "slideshow": {
     "slide_type": "slide"
    }
   },
   "source": [
    "# Classes "
   ]
  },
  {
   "cell_type": "code",
   "execution_count": 42,
   "metadata": {
    "collapsed": true,
    "slideshow": {
     "slide_type": "fragment"
    }
   },
   "outputs": [],
   "source": [
    "class Country:\n",
    "    def __init__(self, name, gdp, compensation):\n",
    "        self.name = name\n",
    "        self.gdp = gdp\n",
    "        self.compensation = compensation\n",
    "        self.labor_share = compensation/gdp\n",
    "    \n",
    "    #Here is a method \n",
    "    #def labor_share(self):\n",
    "     #   return self.compensation/self.gdp"
   ]
  },
  {
   "cell_type": "code",
   "execution_count": 43,
   "metadata": {
    "collapsed": false,
    "slideshow": {
     "slide_type": "fragment"
    }
   },
   "outputs": [],
   "source": [
    "france = Country('France', 1000, 600)"
   ]
  },
  {
   "cell_type": "code",
   "execution_count": 46,
   "metadata": {
    "collapsed": false,
    "slideshow": {
     "slide_type": "fragment"
    }
   },
   "outputs": [
    {
     "data": {
      "text/plain": [
       "1000"
      ]
     },
     "execution_count": 46,
     "metadata": {},
     "output_type": "execute_result"
    }
   ],
   "source": [
    "#gdp is an attribute of the object created by Class Country\n",
    "france.gdp"
   ]
  },
  {
   "cell_type": "markdown",
   "metadata": {
    "slideshow": {
     "slide_type": "slide"
    }
   },
   "source": [
    "### Example of a method"
   ]
  },
  {
   "cell_type": "code",
   "execution_count": 47,
   "metadata": {
    "collapsed": false,
    "slideshow": {
     "slide_type": "fragment"
    }
   },
   "outputs": [
    {
     "data": {
      "text/plain": [
       "0.6"
      ]
     },
     "execution_count": 47,
     "metadata": {},
     "output_type": "execute_result"
    }
   ],
   "source": [
    "#labor share is a method that operates on objects created by Class Country\n",
    "france.labor_share"
   ]
  },
  {
   "cell_type": "code",
   "execution_count": 48,
   "metadata": {
    "collapsed": false,
    "slideshow": {
     "slide_type": "fragment"
    }
   },
   "outputs": [
    {
     "data": {
      "text/plain": [
       "0.6"
      ]
     },
     "execution_count": 48,
     "metadata": {},
     "output_type": "execute_result"
    }
   ],
   "source": [
    "#Change an attribute\n",
    "france.gdp = 1100\n",
    "#Method acts on new attribute\n",
    "france.labor_share"
   ]
  },
  {
   "cell_type": "markdown",
   "metadata": {
    "slideshow": {
     "slide_type": "slide"
    }
   },
   "source": [
    "# Recap\n",
    "- Python data types and structures \n",
    "- loops and if statements \n",
    "- Functions \n",
    "- Classes \n",
    "- fun part is next"
   ]
  },
  {
   "cell_type": "markdown",
   "metadata": {
    "collapsed": true,
    "slideshow": {
     "slide_type": "slide"
    }
   },
   "source": [
    "# Modules\n",
    "- computations using numpy \n",
    "- clean, manupulate and visualize data using pandas \n",
    "- statistical tools using statsmodels\n",
    "- create plots of all kinds using matplotlib \n",
    "- and more more"
   ]
  },
  {
   "cell_type": "markdown",
   "metadata": {
    "slideshow": {
     "slide_type": "slide"
    }
   },
   "source": [
    "# Numpy\n",
    "http://www.numpy.org/\n",
    "https://docs.scipy.org/doc/numpy-dev/user/numpy-for-matlab-users.html"
   ]
  },
  {
   "cell_type": "code",
   "execution_count": 50,
   "metadata": {
    "collapsed": true,
    "slideshow": {
     "slide_type": "fragment"
    }
   },
   "outputs": [],
   "source": [
    "import numpy as np\n",
    "# Do NOT do this!!!\n",
    "#from numpy import *  "
   ]
  },
  {
   "cell_type": "code",
   "execution_count": 57,
   "metadata": {
    "collapsed": false,
    "slideshow": {
     "slide_type": "fragment"
    }
   },
   "outputs": [
    {
     "data": {
      "text/plain": [
       "array([[ 1.,  0.],\n",
       "       [ 0.,  1.],\n",
       "       [ 4.,  5.]])"
      ]
     },
     "execution_count": 57,
     "metadata": {},
     "output_type": "execute_result"
    }
   ],
   "source": [
    "n = np.array([[ 1., 0., 0.],\n",
    " [ 0., 1., 2.],[4., 5, 6.]])\n",
    "n[:,0:2]"
   ]
  },
  {
   "cell_type": "markdown",
   "metadata": {
    "slideshow": {
     "slide_type": "slide"
    }
   },
   "source": [
    "### Attributes of n"
   ]
  },
  {
   "cell_type": "code",
   "execution_count": 63,
   "metadata": {
    "collapsed": false,
    "slideshow": {
     "slide_type": "fragment"
    }
   },
   "outputs": [
    {
     "data": {
      "text/plain": [
       "(9, 1)"
      ]
     },
     "execution_count": 63,
     "metadata": {},
     "output_type": "execute_result"
    }
   ],
   "source": [
    "#Some attributes of n\n",
    "n.shape\n",
    "n.size\n",
    "n.real\n",
    "n = n.reshape(9,1)\n",
    "n.shape"
   ]
  },
  {
   "cell_type": "markdown",
   "metadata": {
    "slideshow": {
     "slide_type": "slide"
    }
   },
   "source": [
    "### Some methods that operate on n"
   ]
  },
  {
   "cell_type": "code",
   "execution_count": 66,
   "metadata": {
    "collapsed": false,
    "slideshow": {
     "slide_type": "fragment"
    }
   },
   "outputs": [
    {
     "data": {
      "text/plain": [
       "array([ 1.,  0.,  0.,  0.,  1.,  2.,  4.,  5.,  6.])"
      ]
     },
     "execution_count": 66,
     "metadata": {},
     "output_type": "execute_result"
    }
   ],
   "source": [
    "#Some methods \n",
    "#max of all elements \n",
    "n.max()\n",
    "#max over columns \n",
    "n.max(0,)\n",
    "#max over rows\n",
    "n.max(1,)\n",
    "# "
   ]
  },
  {
   "cell_type": "markdown",
   "metadata": {
    "slideshow": {
     "slide_type": "slide"
    }
   },
   "source": [
    "### An advantage of numpy"
   ]
  },
  {
   "cell_type": "code",
   "execution_count": 68,
   "metadata": {
    "collapsed": false,
    "slideshow": {
     "slide_type": "fragment"
    }
   },
   "outputs": [
    {
     "data": {
      "text/plain": [
       "array([[[ 0,  1,  2,  3],\n",
       "        [ 4,  5,  6,  7],\n",
       "        [ 8,  9, 10, 11]],\n",
       "\n",
       "       [[12, 13, 14, 15],\n",
       "        [16, 17, 18, 19],\n",
       "        [20, 21, 22, 23]]])"
      ]
     },
     "execution_count": 68,
     "metadata": {},
     "output_type": "execute_result"
    }
   ],
   "source": [
    "# A 3-D array\n",
    "c = np.arange(24)\n",
    "#reshape is a method that operates on the object \"c\"\n",
    "c = c.reshape(2,3,4) \n",
    "c"
   ]
  },
  {
   "cell_type": "markdown",
   "metadata": {
    "slideshow": {
     "slide_type": "slide"
    }
   },
   "source": [
    "## We can do lots of things\n",
    "https://docs.scipy.org/doc/numpy-dev/reference/routines.html"
   ]
  },
  {
   "cell_type": "code",
   "execution_count": 21,
   "metadata": {
    "collapsed": true,
    "slideshow": {
     "slide_type": "fragment"
    }
   },
   "outputs": [],
   "source": [
    "#what should we try?"
   ]
  },
  {
   "cell_type": "markdown",
   "metadata": {
    "slideshow": {
     "slide_type": "slide"
    }
   },
   "source": [
    "# Pandas module "
   ]
  },
  {
   "cell_type": "code",
   "execution_count": 70,
   "metadata": {
    "collapsed": true,
    "nbpresent": {
     "id": "29afb21f-bf0d-4687-828f-82e71e57eb10"
    },
    "slideshow": {
     "slide_type": "fragment"
    }
   },
   "outputs": [],
   "source": [
    "import pandas as pd"
   ]
  },
  {
   "cell_type": "markdown",
   "metadata": {
    "slideshow": {
     "slide_type": "fragment"
    }
   },
   "source": [
    "### Create a dataframe object "
   ]
  },
  {
   "cell_type": "code",
   "execution_count": 87,
   "metadata": {
    "collapsed": false,
    "slideshow": {
     "slide_type": "fragment"
    }
   },
   "outputs": [
    {
     "data": {
      "text/plain": [
       "'\\\\begin{tabular}{lrrrrrrrrrr}\\n\\\\toprule\\n{} &  SMS04000000500000001 &  SMS04000001000000001 &  SMS04000002000000001 &  SMS04000003000000001 &  SMS04000004000000001 &  SMS04000005000000001 &  SMS04000006000000001 &  SMS04000007000000001 &  SMS04000008000000001 &  SMS04000009000000001 \\\\\\\\\\nDate       &                       &                       &                       &                       &                       &                       &                       &                       &                       &                       \\\\\\\\\\n\\\\midrule\\n1990-01-01 &                   NaN &                   NaN &                  85.4 &                 177.5 &                 310.9 &                  32.6 &                 142.2 &                 158.9 &                  55.1 &                 266.1 \\\\\\\\\\n1990-01-01 &                1207.7 &                  12.4 &                  85.4 &                 177.5 &                 310.9 &                  32.6 &                 142.2 &                 158.9 &                  55.1 &                 266.1 \\\\\\\\\\n1990-02-01 &                1208.3 &                  12.4 &                  85.4 &                 177.6 &                 311.4 &                  32.5 &                 141.2 &                 159.5 &                  55.3 &                 267.6 \\\\\\\\\\n2005-12-01 &                2169.2 &                   9.0 &                 233.5 &                 185.1 &                 500.7 &                  45.6 &                 376.7 &                 259.6 &                  93.2 &                 403.4 \\\\\\\\\\n1990-03-01 &                1210.4 &                  12.5 &                  85.3 &                 177.3 &                 312.4 &                  32.2 &                 142.6 &                 159.1 &                  55.3 &                 268.3 \\\\\\\\\\n1990-04-01 &                1213.7 &                  12.4 &                  84.8 &                 176.5 &                 311.4 &                  33.6 &                 142.5 &                 159.6 &                  58.1 &                 271.2 \\\\\\\\\\n1990-05-01 &                1211.5 &                  12.4 &                  84.0 &                 176.7 &                 311.4 &                  33.4 &                 141.4 &                 159.6 &                  58.0 &                 276.5 \\\\\\\\\\n1990-05-01 &                1211.5 &                  12.4 &                  84.0 &                 176.7 &                 311.4 &                  33.4 &                 141.4 &                 159.6 &                  58.0 &                 276.5 \\\\\\\\\\n1990-05-01 &                1211.5 &                  12.4 &                  84.0 &                 176.7 &                 311.4 &                  33.4 &                 141.4 &                 159.6 &                  58.0 &                 276.5 \\\\\\\\\\n1990-05-01 &                1211.5 &                  12.4 &                  84.0 &                 176.7 &                 311.4 &                  33.4 &                 141.4 &                 159.6 &                  58.0 &                 276.5 \\\\\\\\\\n1990-05-01 &                1211.5 &                  12.4 &                  84.0 &                 176.7 &                 311.4 &                  33.4 &                 141.4 &                 159.6 &                  58.0 &                 276.5 \\\\\\\\\\n1990-05-01 &                1211.5 &                  12.4 &                  84.0 &                 176.7 &                 311.4 &                  33.4 &                 141.4 &                 159.6 &                  58.0 &                 276.5 \\\\\\\\\\n1990-05-01 &                1211.5 &                  12.4 &                  84.0 &                 176.7 &                 311.4 &                  33.4 &                 141.4 &                 159.6 &                  58.0 &                 276.5 \\\\\\\\\\n1990-05-01 &                1211.5 &                  12.4 &                  84.0 &                 176.7 &                 311.4 &                  33.4 &                 141.4 &                 159.6 &                  58.0 &                 276.5 \\\\\\\\\\n1990-05-01 &                1211.5 &                  12.4 &                  84.0 &                 176.7 &                 311.4 &                  33.4 &                 141.4 &                 159.6 &                  58.0 &                 276.5 \\\\\\\\\\n1990-05-01 &                1211.5 &                  12.4 &                  84.0 &                 176.7 &                 311.4 &                  33.4 &                 141.4 &                 159.6 &                  58.0 &                 276.5 \\\\\\\\\\n1990-05-01 &                1211.5 &                  12.4 &                  84.0 &                 176.7 &                 311.4 &                  33.4 &                 141.4 &                 159.6 &                  58.0 &                 276.5 \\\\\\\\\\n1990-05-01 &                1211.5 &                  12.4 &                  84.0 &                 176.7 &                 311.4 &                  33.4 &                 141.4 &                 159.6 &                  58.0 &                 276.5 \\\\\\\\\\n1990-05-01 &                1211.5 &                  12.4 &                  84.0 &                 176.7 &                 311.4 &                  33.4 &                 141.4 &                 159.6 &                  58.0 &                 276.5 \\\\\\\\\\n1990-05-01 &                1211.5 &                  12.4 &                  84.0 &                 176.7 &                 311.4 &                  33.4 &                 141.4 &                 159.6 &                  58.0 &                 276.5 \\\\\\\\\\n1990-05-01 &                1211.5 &                  12.4 &                  84.0 &                 176.7 &                 311.4 &                  33.4 &                 141.4 &                 159.6 &                  58.0 &                 276.5 \\\\\\\\\\n1990-06-01 &                1212.5 &                  12.5 &                  83.7 &                 176.7 &                 312.1 &                  33.3 &                 142.3 &                 159.3 &                  57.8 &                 269.8 \\\\\\\\\\n1990-07-01 &                1211.0 &                  12.6 &                  83.6 &                 177.2 &                 309.8 &                  33.0 &                 145.5 &                 158.4 &                  57.4 &                 273.4 \\\\\\\\\\n1990-08-01 &                1210.8 &                  12.6 &                  83.6 &                 176.6 &                 310.3 &                  32.8 &                 144.0 &                 158.6 &                  58.0 &                 272.6 \\\\\\\\\\n1990-09-01 &                1211.9 &                  12.8 &                  84.5 &                 175.9 &                 311.0 &                  32.7 &                 143.8 &                 159.0 &                  58.2 &                 273.9 \\\\\\\\\\n1990-10-01 &                1210.6 &                  12.7 &                  84.5 &                 175.6 &                 309.9 &                  32.4 &                 143.0 &                 158.8 &                  59.7 &                 275.7 \\\\\\\\\\n1990-10-01 &                1210.6 &                  12.7 &                  84.5 &                 175.6 &                 309.9 &                  32.4 &                 143.0 &                 158.8 &                  59.7 &                 275.7 \\\\\\\\\\n1990-10-01 &                1210.6 &                  12.7 &                  84.5 &                 175.6 &                 309.9 &                  32.4 &                 143.0 &                 158.8 &                  59.7 &                 275.7 \\\\\\\\\\n1990-10-01 &                1210.6 &                  12.7 &                  84.5 &                 175.6 &                 309.9 &                  32.4 &                 143.0 &                 158.8 &                  59.7 &                 275.7 \\\\\\\\\\n1990-10-01 &                1210.6 &                  12.7 &                  84.5 &                 175.6 &                 309.9 &                  32.4 &                 143.0 &                 158.8 &                  59.7 &                 275.7 \\\\\\\\\\n1990-10-01 &                1210.6 &                  12.7 &                  84.5 &                 175.6 &                 309.9 &                  32.4 &                 143.0 &                 158.8 &                  59.7 &                 275.7 \\\\\\\\\\n1990-10-01 &                1210.6 &                  12.7 &                  84.5 &                 175.6 &                 309.9 &                  32.4 &                 143.0 &                 158.8 &                  59.7 &                 275.7 \\\\\\\\\\n1990-10-01 &                1210.6 &                  12.7 &                  84.5 &                 175.6 &                 309.9 &                  32.4 &                 143.0 &                 158.8 &                  59.7 &                 275.7 \\\\\\\\\\n1990-10-01 &                1210.6 &                  12.7 &                  84.5 &                 175.6 &                 309.9 &                  32.4 &                 143.0 &                 158.8 &                  59.7 &                 275.7 \\\\\\\\\\n1990-10-01 &                1210.6 &                  12.7 &                  84.5 &                 175.6 &                 309.9 &                  32.4 &                 143.0 &                 158.8 &                  59.7 &                 275.7 \\\\\\\\\\n1990-10-01 &                1210.6 &                  12.7 &                  84.5 &                 175.6 &                 309.9 &                  32.4 &                 143.0 &                 158.8 &                  59.7 &                 275.7 \\\\\\\\\\n1990-10-01 &                1210.6 &                  12.7 &                  84.5 &                 175.6 &                 309.9 &                  32.4 &                 143.0 &                 158.8 &                  59.7 &                 275.7 \\\\\\\\\\n1990-10-01 &                1210.6 &                  12.7 &                  84.5 &                 175.6 &                 309.9 &                  32.4 &                 143.0 &                 158.8 &                  59.7 &                 275.7 \\\\\\\\\\n1990-10-01 &                1210.6 &                  12.7 &                  84.5 &                 175.6 &                 309.9 &                  32.4 &                 143.0 &                 158.8 &                  59.7 &                 275.7 \\\\\\\\\\n1990-10-01 &                1210.6 &                  12.7 &                  84.5 &                 175.6 &                 309.9 &                  32.4 &                 143.0 &                 158.8 &                  59.7 &                 275.7 \\\\\\\\\\n1990-10-01 &                1210.6 &                  12.7 &                  84.5 &                 175.6 &                 309.9 &                  32.4 &                 143.0 &                 158.8 &                  59.7 &                 275.7 \\\\\\\\\\n1990-10-01 &                1210.6 &                  12.7 &                  84.5 &                 175.6 &                 309.9 &                  32.4 &                 143.0 &                 158.8 &                  59.7 &                 275.7 \\\\\\\\\\n1990-10-01 &                1210.6 &                  12.7 &                  84.5 &                 175.6 &                 309.9 &                  32.4 &                 143.0 &                 158.8 &                  59.7 &                 275.7 \\\\\\\\\\n1990-10-01 &                1210.6 &                  12.7 &                  84.5 &                 175.6 &                 309.9 &                  32.4 &                 143.0 &                 158.8 &                  59.7 &                 275.7 \\\\\\\\\\n1990-10-01 &                1210.6 &                  12.7 &                  84.5 &                 175.6 &                 309.9 &                  32.4 &                 143.0 &                 158.8 &                  59.7 &                 275.7 \\\\\\\\\\n1990-10-01 &                1210.6 &                  12.7 &                  84.5 &                 175.6 &                 309.9 &                  32.4 &                 143.0 &                 158.8 &                  59.7 &                 275.7 \\\\\\\\\\n1990-11-01 &                1212.0 &                  12.8 &                  83.4 &                 175.5 &                 310.1 &                  32.4 &                 143.3 &                 160.3 &                  59.8 &                 277.6 \\\\\\\\\\n1990-12-01 &                1205.2 &                  12.9 &                  82.0 &                 174.4 &                 308.3 &                  32.1 &                 141.5 &                 160.2 &                  59.9 &                 279.3 \\\\\\\\\\n1991-01-01 &                1217.4 &                  13.2 &                  83.5 &                 174.5 &                 307.9 &                  32.1 &                 147.8 &                 160.7 &                  58.3 &                 279.9 \\\\\\\\\\n1991-02-01 &                1212.4 &                  13.3 &                  81.6 &                 172.9 &                 307.8 &                  31.7 &                 147.2 &                 160.1 &                  58.2 &                 280.5 \\\\\\\\\\n1991-03-01 &                1209.1 &                  13.1 &                  80.5 &                 172.3 &                 307.4 &                  31.9 &                 146.7 &                 160.0 &                  58.1 &                 282.9 \\\\\\\\\\n1991-04-01 &                1203.9 &                  13.0 &                  79.8 &                 171.2 &                 307.4 &                  31.4 &                 147.0 &                 159.2 &                  58.1 &                 283.6 \\\\\\\\\\n1991-05-01 &                1200.7 &                  13.2 &                  79.0 &                 170.2 &                 306.7 &                  31.0 &                 146.1 &                 159.7 &                  57.7 &                 284.6 \\\\\\\\\\n1991-06-01 &                1200.5 &                  13.2 &                  79.0 &                 169.8 &                 307.5 &                  30.9 &                 146.5 &                 158.2 &                  57.9 &                 287.6 \\\\\\\\\\n1991-07-01 &                1201.4 &                  13.3 &                  80.2 &                 169.9 &                 305.2 &                  31.1 &                 146.4 &                 159.6 &                  57.0 &                 283.9 \\\\\\\\\\n1991-08-01 &                1202.3 &                  13.3 &                  78.9 &                 170.2 &                 305.1 &                  30.8 &                 147.3 &                 160.0 &                  56.9 &                 284.5 \\\\\\\\\\n1991-09-01 &                1201.9 &                  13.3 &                  79.1 &                 169.3 &                 303.6 &                  30.8 &                 148.1 &                 161.1 &                  56.9 &                 286.6 \\\\\\\\\\n1991-10-01 &                1207.8 &                  13.5 &                  79.3 &                 169.5 &                 304.7 &                  30.7 &                 149.7 &                 161.4 &                  57.6 &                 288.0 \\\\\\\\\\n1991-11-01 &                1210.4 &                  13.6 &                  79.7 &                 169.2 &                 304.5 &                  30.4 &                 151.0 &                 162.0 &                  57.7 &                 288.0 \\\\\\\\\\n1991-12-01 &                1212.5 &                  13.6 &                  79.7 &                 169.1 &                 305.9 &                  30.6 &                 150.2 &                 163.0 &                  57.7 &                 288.0 \\\\\\\\\\n1992-01-01 &                1210.8 &                  13.0 &                  79.9 &                 167.3 &                 307.2 &                  30.2 &                 155.0 &                 162.0 &                  57.3 &                 290.0 \\\\\\\\\\n1992-02-01 &                1212.4 &                  13.0 &                  80.4 &                 167.9 &                 306.6 &                  30.1 &                 155.5 &                 162.6 &                  57.0 &                 288.5 \\\\\\\\\\n1992-03-01 &                1211.9 &                  12.9 &                  80.6 &                 166.1 &                 306.8 &                  30.1 &                 156.8 &                 161.7 &                  57.0 &                 288.4 \\\\\\\\\\n1992-04-01 &                1216.4 &                  12.8 &                  81.3 &                 167.5 &                 306.0 &                  30.2 &                 157.3 &                 163.2 &                  57.0 &                 288.8 \\\\\\\\\\n1992-05-01 &                1223.7 &                  13.0 &                  82.8 &                 167.3 &                 306.7 &                  30.3 &                 159.7 &                 163.8 &                  57.4 &                 289.2 \\\\\\\\\\n1992-06-01 &                1225.9 &                  13.0 &                  82.8 &                 167.2 &                 305.8 &                  30.3 &                 160.6 &                 165.2 &                  57.9 &                 289.3 \\\\\\\\\\n1992-07-01 &                1231.2 &                  13.3 &                  82.9 &                 166.6 &                 306.8 &                  29.5 &                 162.2 &                 165.6 &                  58.3 &                 289.4 \\\\\\\\\\n1992-08-01 &                1233.5 &                  13.1 &                  83.5 &                 166.2 &                 307.1 &                  29.5 &                 162.8 &                 166.1 &                  58.6 &                 292.1 \\\\\\\\\\n1992-09-01 &                1236.8 &                  13.1 &                  83.3 &                 166.6 &                 307.1 &                  29.6 &                 164.5 &                 166.2 &                  58.9 &                 298.4 \\\\\\\\\\n1992-10-01 &                1235.3 &                  13.0 &                  83.0 &                 166.4 &                 305.8 &                  29.6 &                 164.7 &                 166.4 &                  58.3 &                 290.5 \\\\\\\\\\n1992-11-01 &                1237.0 &                  13.0 &                  83.5 &                 166.1 &                 305.7 &                  29.7 &                 165.7 &                 166.7 &                  58.3 &                 289.9 \\\\\\\\\\n1992-12-01 &                1240.1 &                  13.0 &                  83.4 &                 166.2 &                 305.7 &                  29.8 &                 166.3 &                 167.1 &                  58.2 &                 291.5 \\\\\\\\\\n1993-01-01 &                1244.9 &                  12.9 &                  82.3 &                 167.2 &                 307.1 &                  30.1 &                 165.6 &                 168.6 &                  58.8 &                 290.1 \\\\\\\\\\n1993-02-01 &                1253.1 &                  12.9 &                  84.6 &                 167.4 &                 308.3 &                  30.2 &                 167.1 &                 168.9 &                  59.3 &                 292.6 \\\\\\\\\\n1993-02-01 &                1253.1 &                  12.9 &                  84.6 &                 167.4 &                 308.3 &                  30.2 &                 167.1 &                 168.9 &                  59.3 &                 292.6 \\\\\\\\\\n1993-02-01 &                1253.1 &                  12.9 &                  84.6 &                 167.4 &                 308.3 &                  30.2 &                 167.1 &                 168.9 &                  59.3 &                 292.6 \\\\\\\\\\n1993-02-01 &                1253.1 &                  12.9 &                  84.6 &                 167.4 &                 308.3 &                  30.2 &                 167.1 &                 168.9 &                  59.3 &                 292.6 \\\\\\\\\\n1993-03-01 &                1258.9 &                  12.8 &                  86.4 &                 168.1 &                 308.9 &                  30.4 &                 168.7 &                 169.3 &                  59.8 &                 293.7 \\\\\\\\\\n1993-03-01 &                1258.9 &                  12.8 &                  86.4 &                 168.1 &                 308.9 &                  30.4 &                 168.7 &                 169.3 &                  59.8 &                 293.7 \\\\\\\\\\n1993-03-01 &                1258.9 &                  12.8 &                  86.4 &                 168.1 &                 308.9 &                  30.4 &                 168.7 &                 169.3 &                  59.8 &                 293.7 \\\\\\\\\\n1993-02-01 &                1253.1 &                  12.9 &                  84.6 &                 167.4 &                 308.3 &                  30.2 &                 167.1 &                 168.9 &                  59.3 &                 292.6 \\\\\\\\\\n1993-02-01 &                1253.1 &                  12.9 &                  84.6 &                 167.4 &                 308.3 &                  30.2 &                 167.1 &                 168.9 &                  59.3 &                 292.6 \\\\\\\\\\n1993-02-01 &                1253.1 &                  12.9 &                  84.6 &                 167.4 &                 308.3 &                  30.2 &                 167.1 &                 168.9 &                  59.3 &                 292.6 \\\\\\\\\\n2007-06-01 &                2263.5 &                  11.0 &                 228.4 &                 181.7 &                 528.4 &                  41.7 &                 405.1 &                 272.0 &                  99.4 &                 420.2 \\\\\\\\\\n1993-02-01 &                1253.1 &                  12.9 &                  84.6 &                 167.4 &                 308.3 &                  30.2 &                 167.1 &                 168.9 &                  59.3 &                 292.6 \\\\\\\\\\n1993-02-01 &                1253.1 &                  12.9 &                  84.6 &                 167.4 &                 308.3 &                  30.2 &                 167.1 &                 168.9 &                  59.3 &                 292.6 \\\\\\\\\\n1993-02-01 &                1253.1 &                  12.9 &                  84.6 &                 167.4 &                 308.3 &                  30.2 &                 167.1 &                 168.9 &                  59.3 &                 292.6 \\\\\\\\\\n1993-03-01 &                1258.9 &                  12.8 &                  86.4 &                 168.1 &                 308.9 &                  30.4 &                 168.7 &                 169.3 &                  59.8 &                 293.7 \\\\\\\\\\n1993-04-01 &                1273.8 &                  12.8 &                  88.4 &                 167.9 &                 313.5 &                  30.2 &                 171.0 &                 173.1 &                  60.4 &                 292.4 \\\\\\\\\\n1993-05-01 &                1282.3 &                  12.9 &                  89.8 &                 168.7 &                 313.1 &                  30.1 &                 174.1 &                 175.3 &                  60.3 &                 293.8 \\\\\\\\\\n1993-06-01 &                1286.2 &                  12.7 &                  90.8 &                 168.4 &                 313.6 &                  30.5 &                 175.3 &                 176.0 &                  60.3 &                 295.7 \\\\\\\\\\n1993-07-01 &                1290.4 &                  12.5 &                  92.7 &                 169.4 &                 316.5 &                  30.8 &                 173.6 &                 176.1 &                  59.9 &                 296.4 \\\\\\\\\\n1993-08-01 &                1295.9 &                  12.5 &                  94.0 &                 169.9 &                 317.2 &                  30.9 &                 175.2 &                 176.7 &                  59.8 &                 295.7 \\\\\\\\\\n1993-09-01 &                1306.6 &                  12.5 &                  95.7 &                 170.6 &                 320.5 &                  30.8 &                 176.6 &                 178.4 &                  60.1 &                 296.1 \\\\\\\\\\n1993-10-01 &                1317.8 &                  12.5 &                  97.7 &                 171.2 &                 325.6 &                  30.7 &                 178.4 &                 180.1 &                  59.5 &                 298.9 \\\\\\\\\\n1993-10-01 &                1317.8 &                  12.5 &                  97.7 &                 171.2 &                 325.6 &                  30.7 &                 178.4 &                 180.1 &                  59.5 &                 298.9 \\\\\\\\\\n1993-10-01 &                1317.8 &                  12.5 &                  97.7 &                 171.2 &                 325.6 &                  30.7 &                 178.4 &                 180.1 &                  59.5 &                 298.9 \\\\\\\\\\n1993-10-01 &                1317.8 &                  12.5 &                  97.7 &                 171.2 &                 325.6 &                  30.7 &                 178.4 &                 180.1 &                  59.5 &                 298.9 \\\\\\\\\\n1993-10-01 &                1317.8 &                  12.5 &                  97.7 &                 171.2 &                 325.6 &                  30.7 &                 178.4 &                 180.1 &                  59.5 &                 298.9 \\\\\\\\\\n1993-10-01 &                1317.8 &                  12.5 &                  97.7 &                 171.2 &                 325.6 &                  30.7 &                 178.4 &                 180.1 &                  59.5 &                 298.9 \\\\\\\\\\n1993-10-01 &                1317.8 &                  12.5 &                  97.7 &                 171.2 &                 325.6 &                  30.7 &                 178.4 &                 180.1 &                  59.5 &                 298.9 \\\\\\\\\\n1993-10-01 &                1317.8 &                  12.5 &                  97.7 &                 171.2 &                 325.6 &                  30.7 &                 178.4 &                 180.1 &                  59.5 &                 298.9 \\\\\\\\\\n1993-10-01 &                1317.8 &                  12.5 &                  97.7 &                 171.2 &                 325.6 &                  30.7 &                 178.4 &                 180.1 &                  59.5 &                 298.9 \\\\\\\\\\n1993-10-01 &                1317.8 &                  12.5 &                  97.7 &                 171.2 &                 325.6 &                  30.7 &                 178.4 &                 180.1 &                  59.5 &                 298.9 \\\\\\\\\\n1993-11-01 &                1323.3 &                  12.4 &                  98.9 &                 172.3 &                 326.7 &                  30.8 &                 179.4 &                 180.2 &                  59.1 &                 298.4 \\\\\\\\\\n1993-12-01 &                1333.4 &                  12.4 &                 100.9 &                 173.2 &                 329.1 &                  31.1 &                 181.5 &                 181.2 &                  59.0 &                 299.3 \\\\\\\\\\n1994-01-01 &                1344.0 &                  11.5 &                 103.1 &                 175.3 &                 331.1 &                  30.9 &                 183.1 &                 182.2 &                  58.9 &                 298.8 \\\\\\\\\\n1994-02-01 &                1349.8 &                  11.5 &                 104.2 &                 175.9 &                 332.0 &                  30.8 &                 184.3 &                 183.6 &                  58.9 &                 298.3 \\\\\\\\\\n1994-03-01 &                1358.0 &                  11.6 &                 105.6 &                 177.1 &                 334.5 &                  31.1 &                 185.5 &                 184.4 &                  58.9 &                 298.2 \\\\\\\\\\n1994-04-01 &                1368.2 &                  11.8 &                 106.5 &                 179.1 &                 336.2 &                  31.4 &                 188.5 &                 184.8 &                  60.6 &                 299.0 \\\\\\\\\\n1994-05-01 &                1374.5 &                  11.9 &                 107.8 &                 180.1 &                 338.3 &                  31.7 &                 188.6 &                 184.7 &                  60.7 &                 300.2 \\\\\\\\\\n1994-06-01 &                1383.2 &                  11.9 &                 108.7 &                 181.3 &                 341.1 &                  31.9 &                 191.0 &                 184.7 &                  61.0 &                 302.9 \\\\\\\\\\n1994-07-01 &                1394.0 &                  12.0 &                 110.0 &                 182.5 &                 345.4 &                  32.0 &                 193.9 &                 185.5 &                  61.9 &                 304.7 \\\\\\\\\\n1994-08-01 &                1402.6 &                  12.1 &                 111.4 &                 183.8 &                 346.5 &                  32.3 &                 196.0 &                 186.5 &                  62.1 &                 309.2 \\\\\\\\\\n1994-09-01 &                1409.1 &                  12.1 &                 113.0 &                 184.5 &                 348.5 &                  32.6 &                 197.2 &                 186.5 &                  62.5 &                 306.0 \\\\\\\\\\n1994-10-01 &                1418.0 &                  12.2 &                 114.3 &                 185.9 &                 349.3 &                  33.2 &                 199.2 &                 188.5 &                  62.3 &                 304.8 \\\\\\\\\\n1994-11-01 &                1429.2 &                  12.4 &                 115.6 &                 187.3 &                 351.3 &                  33.6 &                 202.4 &                 189.7 &                  62.8 &                 307.5 \\\\\\\\\\n1994-12-01 &                1437.7 &                  12.3 &                 116.5 &                 187.9 &                 353.6 &                  33.9 &                 205.0 &                 190.6 &                  63.0 &                 306.3 \\\\\\\\\\n1995-01-01 &                1447.3 &                  12.2 &                 120.1 &                 187.5 &                 354.9 &                  34.2 &                 209.2 &                 192.1 &                  63.5 &                 306.6 \\\\\\\\\\n1995-02-01 &                1456.1 &                  12.5 &                 121.5 &                 188.8 &                 356.4 &                  34.8 &                 211.5 &                 193.0 &                  63.5 &                 306.6 \\\\\\\\\\n1995-03-01 &                1461.9 &                  12.7 &                 122.6 &                 189.1 &                 356.8 &                  35.0 &                 213.7 &                 193.8 &                  63.3 &                 304.1 \\\\\\\\\\n1995-04-01 &                1464.9 &                  12.9 &                 123.2 &                 191.1 &                 356.7 &                  35.1 &                 214.0 &                 193.6 &                  62.7 &                 310.1 \\\\\\\\\\n1995-05-01 &                1469.6 &                  12.8 &                 123.8 &                 191.3 &                 357.7 &                  35.3 &                 215.3 &                 195.0 &                  62.2 &                 313.3 \\\\\\\\\\n1995-06-01 &                1480.4 &                  12.9 &                 125.2 &                 192.5 &                 359.8 &                  35.7 &                 217.6 &                 196.3 &                  62.4 &                 311.9 \\\\\\\\\\n1995-07-01 &                1484.2 &                  13.8 &                 125.1 &                 190.4 &                 361.1 &                  34.8 &                 218.6 &                 198.7 &                  62.5 &                 313.5 \\\\\\\\\\n1995-08-01 &                1491.4 &                  13.9 &                 127.0 &                 191.0 &                 362.1 &                  35.2 &                 220.5 &                 199.3 &                  62.6 &                 312.1 \\\\\\\\\\n1995-09-01 &                1498.0 &                  13.9 &                 127.8 &                 192.4 &                 362.5 &                  35.6 &                 222.2 &                 199.5 &                  62.3 &                 312.6 \\\\\\\\\\n1995-10-01 &                1508.7 &                  13.5 &                 128.6 &                 193.2 &                 366.2 &                  35.8 &                 226.5 &                 197.6 &                  63.2 &                 312.4 \\\\\\\\\\n1995-11-01 &                1513.3 &                  13.7 &                 129.1 &                 193.6 &                 365.3 &                  36.2 &                 228.8 &                 198.5 &                  63.3 &                 312.2 \\\\\\\\\\n1995-12-01 &                1520.8 &                  14.0 &                 130.4 &                 195.0 &                 366.2 &                  36.1 &                 230.7 &                 198.3 &                  63.4 &                 313.0 \\\\\\\\\\n1996-01-01 &                1540.1 &                  14.3 &                 131.4 &                 196.8 &                 370.4 &                  36.3 &                 235.6 &                 201.2 &                  63.5 &                 317.1 \\\\\\\\\\n1996-02-01 &                1545.3 &                  14.4 &                 131.8 &                 196.9 &                 370.8 &                  35.9 &                 238.1 &                 202.0 &                  63.7 &                 319.0 \\\\\\\\\\n1996-03-01 &                1549.8 &                  14.3 &                 131.6 &                 197.7 &                 370.7 &                  36.3 &                 239.7 &                 202.2 &                  63.8 &                 318.8 \\\\\\\\\\n1996-04-01 &                1555.9 &                  14.3 &                 131.5 &                 197.6 &                 373.7 &                  36.8 &                 239.2 &                 204.4 &                  64.4 &                 310.1 \\\\\\\\\\n1996-05-01 &                1564.9 &                  14.5 &                 132.7 &                 198.5 &                 375.2 &                  37.4 &                 242.8 &                 203.2 &                  64.4 &                 312.0 \\\\\\\\\\n1996-06-01 &                1570.5 &                  14.5 &                 133.7 &                 199.1 &                 375.5 &                  37.5 &                 245.5 &                 203.1 &                  64.3 &                 315.0 \\\\\\\\\\n1996-07-01 &                1577.4 &                  14.5 &                 133.6 &                 199.4 &                 376.9 &                  38.2 &                 246.9 &                 202.7 &                  64.3 &                 315.8 \\\\\\\\\\n1996-08-01 &                1584.6 &                  14.5 &                 134.3 &                 200.1 &                 378.2 &                  38.4 &                 247.6 &                 203.3 &                  64.3 &                 319.6 \\\\\\\\\\n1996-09-01 &                1591.0 &                  14.5 &                 134.8 &                 200.0 &                 378.3 &                  38.6 &                 250.3 &                 205.1 &                  64.2 &                 318.3 \\\\\\\\\\n1996-09-01 &                1591.0 &                  14.5 &                 134.8 &                 200.0 &                 378.3 &                  38.6 &                 250.3 &                 205.1 &                  64.2 &                 318.3 \\\\\\\\\\n1996-09-01 &                1591.0 &                  14.5 &                 134.8 &                 200.0 &                 378.3 &                  38.6 &                 250.3 &                 205.1 &                  64.2 &                 318.3 \\\\\\\\\\n1996-09-01 &                1591.0 &                  14.5 &                 134.8 &                 200.0 &                 378.3 &                  38.6 &                 250.3 &                 205.1 &                  64.2 &                 318.3 \\\\\\\\\\n1996-09-01 &                1591.0 &                  14.5 &                 134.8 &                 200.0 &                 378.3 &                  38.6 &                 250.3 &                 205.1 &                  64.2 &                 318.3 \\\\\\\\\\n1996-09-01 &                1591.0 &                  14.5 &                 134.8 &                 200.0 &                 378.3 &                  38.6 &                 250.3 &                 205.1 &                  64.2 &                 318.3 \\\\\\\\\\n1996-09-01 &                1591.0 &                  14.5 &                 134.8 &                 200.0 &                 378.3 &                  38.6 &                 250.3 &                 205.1 &                  64.2 &                 318.3 \\\\\\\\\\n1996-09-01 &                1591.0 &                  14.5 &                 134.8 &                 200.0 &                 378.3 &                  38.6 &                 250.3 &                 205.1 &                  64.2 &                 318.3 \\\\\\\\\\n1996-09-01 &                1591.0 &                  14.5 &                 134.8 &                 200.0 &                 378.3 &                  38.6 &                 250.3 &                 205.1 &                  64.2 &                 318.3 \\\\\\\\\\n1996-09-01 &                1591.0 &                  14.5 &                 134.8 &                 200.0 &                 378.3 &                  38.6 &                 250.3 &                 205.1 &                  64.2 &                 318.3 \\\\\\\\\\n1996-10-01 &                1596.0 &                  13.7 &                 135.0 &                 199.9 &                 381.7 &                  39.0 &                 252.0 &                 203.9 &                  64.3 &                 318.3 \\\\\\\\\\n1996-11-01 &                1606.4 &                  13.9 &                 136.0 &                 201.3 &                 384.3 &                  39.1 &                 253.4 &                 205.2 &                  64.4 &                 325.7 \\\\\\\\\\n1996-12-01 &                1611.6 &                  13.8 &                 135.8 &                 201.4 &                 385.6 &                  39.8 &                 254.6 &                 206.1 &                  64.4 &                 320.8 \\\\\\\\\\n1997-01-01 &                1621.0 &                  14.1 &                 135.6 &                 201.9 &                 386.6 &                  40.4 &                 253.4 &                 209.2 &                  64.4 &                 318.5 \\\\\\\\\\n1997-02-01 &                1630.2 &                  14.2 &                 136.6 &                 202.5 &                 387.0 &                  40.7 &                 257.2 &                 209.8 &                  64.6 &                 318.8 \\\\\\\\\\n1997-03-01 &                1635.5 &                  14.2 &                 137.2 &                 202.6 &                 388.9 &                  40.8 &                 258.0 &                 209.7 &                  64.5 &                 319.5 \\\\\\\\\\n1997-04-01 &                1637.6 &                  13.4 &                 137.8 &                 201.9 &                 390.0 &                  40.8 &                 260.6 &                 208.3 &                  64.1 &                 329.2 \\\\\\\\\\n1997-05-01 &                1641.5 &                  13.5 &                 138.2 &                 202.3 &                 390.9 &                  40.6 &                 262.6 &                 208.0 &                  64.2 &                 331.3 \\\\\\\\\\n1997-06-01 &                1646.6 &                  14.2 &                 138.1 &                 202.9 &                 391.9 &                  40.7 &                 264.9 &                 207.8 &                  64.2 &                 330.1 \\\\\\\\\\n1997-07-01 &                1655.6 &                  14.3 &                 139.5 &                 204.4 &                 393.7 &                  40.8 &                 268.0 &                 208.5 &                  64.6 &                 325.8 \\\\\\\\\\n1997-08-01 &                1657.7 &                  14.2 &                 139.2 &                 204.0 &                 393.7 &                  40.9 &                 269.8 &                 209.0 &                  64.5 &                 325.6 \\\\\\\\\\n1997-09-01 &                1670.2 &                  14.4 &                 140.4 &                 205.8 &                 395.4 &                  41.3 &                 272.4 &                 210.4 &                  64.9 &                 330.9 \\\\\\\\\\n1997-09-01 &                1670.2 &                  14.4 &                 140.4 &                 205.8 &                 395.4 &                  41.3 &                 272.4 &                 210.4 &                  64.9 &                 330.9 \\\\\\\\\\n1997-10-01 &                1683.6 &                  14.0 &                 142.0 &                 207.8 &                 397.7 &                  41.8 &                 274.6 &                 213.1 &                  65.1 &                 332.7 \\\\\\\\\\n1997-11-01 &                1695.3 &                  13.9 &                 143.1 &                 209.1 &                 400.4 &                  42.1 &                 276.6 &                 215.5 &                  65.2 &                 335.7 \\\\\\\\\\n1997-12-01 &                1701.4 &                  13.8 &                 143.9 &                 210.0 &                 401.5 &                  42.3 &                 278.7 &                 215.0 &                  65.1 &                 335.7 \\\\\\\\\\n1998-01-01 &                1697.1 &                  13.7 &                 144.9 &                 211.3 &                 401.1 &                  42.5 &                 273.6 &                 214.2 &                  65.5 &                 341.1 \\\\\\\\\\n1998-02-01 &                1701.6 &                  13.4 &                 144.9 &                 211.4 &                 402.2 &                  42.5 &                 274.9 &                 214.7 &                  65.7 &                 339.2 \\\\\\\\\\n1998-03-01 &                1710.7 &                  13.4 &                 146.6 &                 211.6 &                 404.0 &                  42.9 &                 277.1 &                 214.9 &                  66.1 &                 340.5 \\\\\\\\\\n1998-04-01 &                1713.6 &                  13.2 &                 145.0 &                 211.9 &                 404.2 &                  42.3 &                 277.3 &                 215.9 &                  67.0 &                 339.4 \\\\\\\\\\n1998-05-01 &                1724.9 &                  13.1 &                 147.9 &                 211.9 &                 406.1 &                  42.8 &                 279.3 &                 217.6 &                  67.8 &                 340.8 \\\\\\\\\\n1998-06-01 &                1733.9 &                  13.1 &                 149.0 &                 212.1 &                 407.4 &                  43.1 &                 282.3 &                 218.4 &                  68.7 &                 336.0 \\\\\\\\\\n1998-07-01 &                1739.4 &                  12.7 &                 149.7 &                 211.3 &                 407.4 &                  43.2 &                 285.9 &                 218.3 &                  68.5 &                 332.0 \\\\\\\\\\n1998-08-01 &                1744.8 &                  12.6 &                 150.9 &                 211.0 &                 409.5 &                  43.4 &                 286.9 &                 217.9 &                  68.8 &                 340.8 \\\\\\\\\\n1998-09-01 &                1750.0 &                  12.6 &                 151.6 &                 210.6 &                 412.3 &                  43.6 &                 287.9 &                 217.5 &                  69.0 &                 346.7 \\\\\\\\\\n1998-10-01 &                1753.7 &                  12.5 &                 153.0 &                 208.3 &                 413.0 &                  43.7 &                 289.4 &                 217.4 &                  69.4 &                 344.1 \\\\\\\\\\n1997-09-01 &                1670.2 &                  14.4 &                 140.4 &                 205.8 &                 395.4 &                  41.3 &                 272.4 &                 210.4 &                  64.9 &                 330.9 \\\\\\\\\\n1998-11-01 &                1757.6 &                  12.5 &                 154.3 &                 206.6 &                 412.2 &                  43.9 &                 292.3 &                 217.9 &                  69.7 &                 351.9 \\\\\\\\\\n1998-12-01 &                1763.7 &                  12.4 &                 155.3 &                 205.4 &                 414.0 &                  44.5 &                 294.3 &                 218.1 &                  70.4 &                 346.8 \\\\\\\\\\n1999-01-01 &                1767.6 &                  12.4 &                 156.2 &                 206.4 &                 415.4 &                  44.7 &                 296.2 &                 218.5 &                  71.0 &                 348.8 \\\\\\\\\\n1999-02-01 &                1774.5 &                  12.3 &                 157.7 &                 206.4 &                 416.1 &                  45.5 &                 298.8 &                 218.4 &                  71.4 &                 350.5 \\\\\\\\\\n1999-03-01 &                1778.1 &                  12.3 &                 157.6 &                 206.5 &                 418.1 &                  45.2 &                 300.0 &                 218.2 &                  71.7 &                 350.3 \\\\\\\\\\n1999-04-01 &                1792.0 &                  12.5 &                 159.6 &                 206.8 &                 420.4 &                  45.5 &                 302.5 &                 221.7 &                  72.3 &                 351.9 \\\\\\\\\\n1999-04-01 &                1792.0 &                  12.5 &                 159.6 &                 206.8 &                 420.4 &                  45.5 &                 302.5 &                 221.7 &                  72.3 &                 351.9 \\\\\\\\\\n1999-04-01 &                1792.0 &                  12.5 &                 159.6 &                 206.8 &                 420.4 &                  45.5 &                 302.5 &                 221.7 &                  72.3 &                 351.9 \\\\\\\\\\n1999-04-01 &                1792.0 &                  12.5 &                 159.6 &                 206.8 &                 420.4 &                  45.5 &                 302.5 &                 221.7 &                  72.3 &                 351.9 \\\\\\\\\\n1999-05-01 &                1801.3 &                  12.5 &                 159.9 &                 206.9 &                 421.8 &                  46.8 &                 305.1 &                 222.8 &                  72.9 &                 349.9 \\\\\\\\\\n1999-06-01 &                1809.8 &                  12.4 &                 160.9 &                 206.7 &                 421.8 &                  46.9 &                 307.0 &                 225.4 &                  73.7 &                 354.0 \\\\\\\\\\n1999-07-01 &                1816.1 &                  10.1 &                 161.5 &                 208.0 &                 425.3 &                  47.2 &                 309.3 &                 224.4 &                  74.2 &                 361.3 \\\\\\\\\\n1999-08-01 &                1820.5 &                   9.7 &                 161.9 &                 208.3 &                 426.0 &                  47.7 &                 310.9 &                 224.6 &                  74.6 &                 355.2 \\\\\\\\\\n1999-09-01 &                1824.9 &                   9.8 &                 162.5 &                 207.3 &                 426.5 &                  47.9 &                 312.5 &                 225.1 &                  75.2 &                 356.9 \\\\\\\\\\n1999-10-01 &                1833.9 &                   9.9 &                 163.3 &                 208.0 &                 430.0 &                  48.1 &                 313.5 &                 225.6 &                  76.0 &                 357.6 \\\\\\\\\\n1999-11-01 &                1839.1 &                  10.1 &                 163.7 &                 207.9 &                 430.1 &                  48.7 &                 315.6 &                 226.2 &                  76.2 &                 357.7 \\\\\\\\\\n1999-12-01 &                1844.8 &                   9.6 &                 164.2 &                 208.0 &                 433.1 &                  48.5 &                 317.3 &                 226.9 &                  76.3 &                 357.0 \\\\\\\\\\n2000-01-01 &                1848.1 &                   9.8 &                 164.2 &                 207.9 &                 432.9 &                  51.8 &                 317.7 &                 227.6 &                  77.0 &                 360.7 \\\\\\\\\\n2000-02-01 &                1857.1 &                   9.8 &                 165.1 &                 208.4 &                 434.8 &                  52.1 &                 320.0 &                 228.1 &                  77.8 &                 360.8 \\\\\\\\\\n2000-03-01 &                1860.1 &                   9.8 &                 165.5 &                 208.1 &                 434.3 &                  54.4 &                 322.2 &                 227.8 &                  77.7 &                 365.2 \\\\\\\\\\n2000-04-01 &                1862.0 &                   9.7 &                 166.5 &                 208.7 &                 433.0 &                  54.6 &                 324.3 &                 227.5 &                  77.4 &                 367.2 \\\\\\\\\\n2000-05-01 &                1867.8 &                   9.7 &                 167.4 &                 207.9 &                 434.0 &                  55.0 &                 327.6 &                 227.3 &                  77.4 &                 374.8 \\\\\\\\\\n2000-06-01 &                1874.3 &                   9.8 &                 167.9 &                 209.6 &                 436.6 &                  54.9 &                 326.3 &                 228.3 &                  77.6 &                 366.2 \\\\\\\\\\n2000-07-01 &                1875.8 &                   9.8 &                 168.0 &                 209.9 &                 436.9 &                  54.9 &                 327.0 &                 228.2 &                  77.7 &                 368.6 \\\\\\\\\\n2000-08-01 &                1884.3 &                   9.8 &                 169.0 &                 210.8 &                 438.7 &                  54.8 &                 329.4 &                 229.3 &                  77.6 &                 366.2 \\\\\\\\\\n2000-09-01 &                1891.9 &                   9.8 &                 170.2 &                 211.4 &                 440.8 &                  54.7 &                 330.4 &                 231.0 &                  77.8 &                 367.4 \\\\\\\\\\n2000-10-01 &                1894.0 &                   9.7 &                 170.8 &                 211.0 &                 442.3 &                  54.0 &                 331.8 &                 230.5 &                  77.6 &                 367.8 \\\\\\\\\\n2000-11-01 &                1897.6 &                   9.7 &                 171.1 &                 211.9 &                 444.6 &                  53.5 &                 332.1 &                 230.2 &                  78.1 &                 368.3 \\\\\\\\\\n2000-12-01 &                1904.4 &                   9.7 &                 173.1 &                 211.6 &                 446.0 &                  54.0 &                 333.2 &                 229.8 &                  78.5 &                 369.4 \\\\\\\\\\n2001-01-01 &                1898.1 &                   9.8 &                 171.3 &                 210.3 &                 444.7 &                  54.1 &                 327.5 &                 230.4 &                  82.7 &                 367.9 \\\\\\\\\\n2001-02-01 &                1900.2 &                   9.7 &                 173.0 &                 208.6 &                 444.0 &                  54.3 &                 328.0 &                 231.4 &                  83.4 &                 372.9 \\\\\\\\\\n2001-03-01 &                1904.2 &                   9.7 &                 175.1 &                 207.9 &                 442.8 &                  54.0 &                 328.8 &                 231.8 &                  84.3 &                 374.0 \\\\\\\\\\n2001-04-01 &                1899.4 &                   9.7 &                 174.2 &                 206.6 &                 443.2 &                  53.9 &                 325.6 &                 230.8 &                  84.2 &                 375.6 \\\\\\\\\\n2001-05-01 &                1892.9 &                   9.6 &                 174.1 &                 205.2 &                 441.7 &                  53.2 &                 323.1 &                 230.1 &                  84.6 &                 375.8 \\\\\\\\\\n2001-06-01 &                1892.0 &                   9.5 &                 174.2 &                 202.8 &                 441.4 &                  53.6 &                 321.9 &                 229.8 &                  85.4 &                 375.8 \\\\\\\\\\n2001-07-01 &                1891.1 &                   9.5 &                 175.5 &                 201.3 &                 440.9 &                  53.5 &                 319.8 &                 229.9 &                  85.6 &                 377.9 \\\\\\\\\\n2001-08-01 &                1888.1 &                   9.5 &                 175.6 &                 199.1 &                 439.6 &                  53.5 &                 317.2 &                 230.4 &                  86.2 &                 379.4 \\\\\\\\\\n2001-09-01 &                1885.4 &                   9.4 &                 174.6 &                 197.2 &                 438.5 &                  53.5 &                 316.8 &                 230.6 &                  86.5 &                 381.8 \\\\\\\\\\n2001-10-01 &                1875.9 &                   9.5 &                 172.9 &                 195.4 &                 439.2 &                  53.6 &                 314.2 &                 228.6 &                  84.1 &                 381.9 \\\\\\\\\\n2001-11-01 &                1866.2 &                   9.4 &                 172.0 &                 192.7 &                 436.5 &                  53.5 &                 309.8 &                 227.7 &                  84.7 &                 384.6 \\\\\\\\\\n2001-12-01 &                1863.2 &                   9.2 &                 170.3 &                 191.1 &                 435.6 &                  52.8 &                 310.2 &                 227.4 &                  84.7 &                 383.5 \\\\\\\\\\n2002-01-01 &                1871.7 &                   9.1 &                 172.0 &                 189.1 &                 437.8 &                  53.6 &                 311.9 &                 226.7 &                  85.8 &                 385.1 \\\\\\\\\\n2002-02-01 &                1867.6 &                   9.0 &                 171.7 &                 187.8 &                 436.3 &                  52.5 &                 311.6 &                 227.1 &                  85.6 &                 384.4 \\\\\\\\\\n2002-02-01 &                1867.6 &                   9.0 &                 171.7 &                 187.8 &                 436.3 &                  52.5 &                 311.6 &                 227.1 &                  85.6 &                 384.4 \\\\\\\\\\n2002-02-01 &                1867.6 &                   9.0 &                 171.7 &                 187.8 &                 436.3 &                  52.5 &                 311.6 &                 227.1 &                  85.6 &                 384.4 \\\\\\\\\\n2002-02-01 &                1867.6 &                   9.0 &                 171.7 &                 187.8 &                 436.3 &                  52.5 &                 311.6 &                 227.1 &                  85.6 &                 384.4 \\\\\\\\\\n2002-03-01 &                1871.8 &                   9.0 &                 172.4 &                 186.7 &                 438.5 &                  52.1 &                 313.7 &                 227.7 &                  86.1 &                 386.1 \\\\\\\\\\n2002-04-01 &                1878.8 &                   9.1 &                 172.1 &                 186.1 &                 440.6 &                  52.0 &                 315.9 &                 229.4 &                  86.8 &                 389.9 \\\\\\\\\\n2002-05-01 &                1879.7 &                   8.8 &                 172.2 &                 184.8 &                 441.7 &                  51.6 &                 315.2 &                 230.2 &                  86.8 &                 387.3 \\\\\\\\\\n2002-06-01 &                1879.8 &                   8.8 &                 172.3 &                 183.6 &                 442.5 &                  51.0 &                 314.8 &                 230.2 &                  87.0 &                 390.8 \\\\\\\\\\n2002-07-01 &                1876.4 &                   8.6 &                 171.9 &                 183.5 &                 441.1 &                  51.2 &                 315.5 &                 229.6 &                  86.3 &                 388.6 \\\\\\\\\\n2002-08-01 &                1878.5 &                   8.6 &                 172.5 &                 182.0 &                 441.5 &                  51.0 &                 316.3 &                 229.8 &                  86.3 &                 390.7 \\\\\\\\\\n2002-09-01 &                1876.5 &                   8.6 &                 172.0 &                 181.0 &                 442.1 &                  50.7 &                 315.1 &                 229.3 &                  86.5 &                 390.8 \\\\\\\\\\n2002-10-01 &                1877.6 &                   8.5 &                 172.3 &                 180.0 &                 442.4 &                  50.2 &                 314.2 &                 229.6 &                  86.1 &                 392.9 \\\\\\\\\\n2002-11-01 &                1885.0 &                   8.4 &                 173.1 &                 178.9 &                 442.4 &                  49.9 &                 316.1 &                 232.4 &                  86.1 &                 400.2 \\\\\\\\\\n2002-12-01 &                1884.7 &                   8.4 &                 172.5 &                 178.0 &                 444.3 &                  50.2 &                 315.1 &                 231.6 &                  86.3 &                 393.6 \\\\\\\\\\n2003-01-01 &                1888.2 &                   8.3 &                 173.5 &                 178.1 &                 443.0 &                  49.7 &                 316.9 &                 231.7 &                  86.3 &                 392.4 \\\\\\\\\\n2003-02-01 &                1888.3 &                   8.1 &                 173.4 &                 176.7 &                 443.6 &                  49.4 &                 317.8 &                 231.5 &                  85.6 &                 393.3 \\\\\\\\\\n2003-03-01 &                1889.9 &                   8.0 &                 173.2 &                 176.2 &                 444.3 &                  49.4 &                 318.4 &                 231.0 &                  85.6 &                 393.5 \\\\\\\\\\n2003-04-01 &                1893.8 &                   8.1 &                 174.0 &                 176.3 &                 443.6 &                  49.3 &                 318.9 &                 231.6 &                  85.6 &                 393.3 \\\\\\\\\\n2003-05-01 &                1896.0 &                   8.0 &                 174.7 &                 175.5 &                 443.3 &                  49.2 &                 320.0 &                 231.7 &                  85.6 &                 394.5 \\\\\\\\\\n2003-06-01 &                1897.8 &                   8.0 &                 175.3 &                 174.8 &                 443.4 &                  49.2 &                 320.1 &                 231.9 &                  85.5 &                 395.0 \\\\\\\\\\n2003-07-01 &                1904.2 &                   8.0 &                 175.4 &                 174.2 &                 444.9 &                  49.0 &                 320.1 &                 232.8 &                  87.7 &                 391.4 \\\\\\\\\\n2003-08-01 &                1908.6 &                   8.0 &                 175.6 &                 174.1 &                 446.1 &                  48.8 &                 320.3 &                 233.2 &                  88.5 &                 393.1 \\\\\\\\\\n2003-09-01 &                1913.6 &                   7.9 &                 177.2 &                 174.0 &                 446.0 &                  48.7 &                 322.4 &                 234.2 &                  88.7 &                 390.5 \\\\\\\\\\n2003-10-01 &                1925.0 &                   8.0 &                 179.2 &                 174.1 &                 450.2 &                  49.0 &                 324.7 &                 235.9 &                  89.3 &                 393.2 \\\\\\\\\\n2003-11-01 &                1930.8 &                   8.0 &                 180.6 &                 174.5 &                 451.8 &                  49.1 &                 325.2 &                 236.9 &                  89.4 &                 392.3 \\\\\\\\\\n2003-12-01 &                1935.6 &                   8.0 &                 181.9 &                 174.9 &                 452.4 &                  48.8 &                 326.9 &                 237.1 &                  89.5 &                 394.0 \\\\\\\\\\n2004-01-01 &                1942.6 &                   7.9 &                 183.5 &                 175.5 &                 453.9 &                  48.5 &                 327.0 &                 238.4 &                  89.2 &                 394.4 \\\\\\\\\\n2004-02-01 &                1947.0 &                   8.0 &                 185.1 &                 175.5 &                 455.2 &                  48.1 &                 327.3 &                 238.8 &                  89.4 &                 395.2 \\\\\\\\\\n2004-02-01 &                1947.0 &                   8.0 &                 185.1 &                 175.5 &                 455.2 &                  48.1 &                 327.3 &                 238.8 &                  89.4 &                 395.2 \\\\\\\\\\n2004-02-01 &                1947.0 &                   8.0 &                 185.1 &                 175.5 &                 455.2 &                  48.1 &                 327.3 &                 238.8 &                  89.4 &                 395.2 \\\\\\\\\\n2004-02-01 &                1947.0 &                   8.0 &                 185.1 &                 175.5 &                 455.2 &                  48.1 &                 327.3 &                 238.8 &                  89.4 &                 395.2 \\\\\\\\\\n2004-02-01 &                1947.0 &                   8.0 &                 185.1 &                 175.5 &                 455.2 &                  48.1 &                 327.3 &                 238.8 &                  89.4 &                 395.2 \\\\\\\\\\n2004-03-01 &                1953.1 &                   8.1 &                 185.7 &                 175.7 &                 456.4 &                  48.0 &                 328.9 &                 240.1 &                  89.1 &                 396.7 \\\\\\\\\\n2004-04-01 &                1958.8 &                   8.1 &                 186.8 &                 175.2 &                 458.0 &                  47.5 &                 332.6 &                 238.2 &                  88.4 &                 397.8 \\\\\\\\\\n2004-05-01 &                1969.7 &                   8.3 &                 188.0 &                 175.5 &                 461.1 &                  47.0 &                 334.7 &                 240.6 &                  88.6 &                 398.0 \\\\\\\\\\n2004-06-01 &                1978.9 &                   8.3 &                 189.4 &                 176.5 &                 462.1 &                  46.8 &                 337.3 &                 241.5 &                  88.7 &                 398.2 \\\\\\\\\\n2004-07-01 &                1988.1 &                   8.3 &                 191.2 &                 176.9 &                 463.1 &                  46.3 &                 341.3 &                 242.7 &                  89.5 &                 399.9 \\\\\\\\\\n2004-08-01 &                1994.1 &                   8.4 &                 192.3 &                 176.9 &                 465.3 &                  45.5 &                 341.9 &                 243.0 &                  89.8 &                 401.8 \\\\\\\\\\n2004-09-01 &                1996.6 &                   8.5 &                 194.3 &                 177.5 &                 463.6 &                  44.7 &                 344.0 &                 242.7 &                  89.6 &                 402.1 \\\\\\\\\\n2004-10-01 &                2021.1 &                   8.6 &                 199.1 &                 178.9 &                 469.2 &                  44.9 &                 349.9 &                 244.0 &                  90.0 &                 404.0 \\\\\\\\\\n2004-11-01 &                2028.7 &                   8.7 &                 201.0 &                 179.5 &                 471.3 &                  44.7 &                 351.0 &                 244.8 &                  89.9 &                 402.4 \\\\\\\\\\n2004-12-01 &                2038.7 &                   8.6 &                 203.9 &                 179.8 &                 472.4 &                  44.5 &                 353.6 &                 246.2 &                  90.2 &                 404.5 \\\\\\\\\\n2005-01-01 &                2045.8 &                   8.7 &                 205.3 &                 179.6 &                 477.3 &                  44.3 &                 354.3 &                 246.1 &                  89.4 &                 399.3 \\\\\\\\\\n2005-02-01 &                2054.2 &                   8.8 &                 207.9 &                 179.8 &                 480.0 &                  44.4 &                 355.9 &                 247.3 &                  89.3 &                 403.6 \\\\\\\\\\n2005-03-01 &                2064.5 &                   9.0 &                 210.6 &                 180.0 &                 481.4 &                  44.3 &                 357.8 &                 247.9 &                  89.7 &                 402.0 \\\\\\\\\\n2005-04-01 &                2086.1 &                   9.0 &                 214.8 &                 180.9 &                 483.2 &                  44.8 &                 361.5 &                 251.6 &                  91.1 &                 402.2 \\\\\\\\\\n2005-05-01 &                2097.5 &                   9.1 &                 215.9 &                 181.6 &                 485.3 &                  45.1 &                 363.4 &                 253.5 &                  91.6 &                 401.8 \\\\\\\\\\n2005-06-01 &                2104.0 &                   9.2 &                 217.7 &                 182.1 &                 486.9 &                  44.6 &                 365.4 &                 254.4 &                  91.3 &                 404.0 \\\\\\\\\\n2005-07-01 &                2120.0 &                   7.9 &                 221.3 &                 182.5 &                 489.9 &                  44.8 &                 369.9 &                 256.3 &                  91.8 &                 403.9 \\\\\\\\\\n2005-08-01 &                2128.3 &                   7.9 &                 222.4 &                 183.3 &                 491.6 &                  44.7 &                 371.5 &                 256.9 &                  91.6 &                 405.3 \\\\\\\\\\n2005-09-01 &                2143.3 &                   8.0 &                 225.2 &                 183.4 &                 495.0 &                  44.7 &                 374.9 &                 259.2 &                  92.2 &                 404.2 \\\\\\\\\\n2005-10-01 &                2143.8 &                   7.9 &                 226.9 &                 183.9 &                 494.6 &                  45.1 &                 372.4 &                 258.4 &                  92.4 &                 403.5 \\\\\\\\\\n2005-11-01 &                2157.0 &                   8.4 &                 230.8 &                 184.0 &                 497.4 &                  44.9 &                 375.0 &                 259.1 &                  93.0 &                 403.2 \\\\\\\\\\n2005-12-01 &                2169.2 &                   9.0 &                 233.5 &                 185.1 &                 500.7 &                  45.6 &                 376.7 &                 259.6 &                  93.2 &                 403.4 \\\\\\\\\\n2006-01-01 &                2191.2 &                   9.1 &                 236.1 &                 185.9 &                 502.8 &                  45.5 &                 382.0 &                 261.8 &                  98.8 &                 403.8 \\\\\\\\\\n2006-02-01 &                2204.5 &                   9.3 &                 239.3 &                 187.2 &                 504.8 &                  44.8 &                 386.3 &                 262.8 &                  99.6 &                 405.1 \\\\\\\\\\n2006-03-01 &                2216.2 &                   9.4 &                 241.5 &                 187.3 &                 507.7 &                  44.7 &                 388.3 &                 263.5 &                 100.5 &                 406.3 \\\\\\\\\\n2006-04-01 &                2222.3 &                   9.7 &                 243.3 &                 187.9 &                 509.1 &                  43.8 &                 390.4 &                 264.9 &                  98.7 &                 406.6 \\\\\\\\\\n2006-05-01 &                2227.3 &                   9.8 &                 244.1 &                 187.0 &                 509.6 &                  43.6 &                 393.0 &                 264.5 &                  99.6 &                 409.4 \\\\\\\\\\n2006-06-01 &                2236.9 &                  10.0 &                 244.3 &                 186.7 &                 511.2 &                  43.5 &                 396.0 &                 266.5 &                 100.7 &                 409.2 \\\\\\\\\\n2006-07-01 &                2236.2 &                  10.0 &                 243.0 &                 186.5 &                 512.0 &                  43.2 &                 397.3 &                 267.3 &                  96.3 &                 408.3 \\\\\\\\\\n2006-08-01 &                2241.5 &                  10.2 &                 241.7 &                 185.9 &                 514.3 &                  43.2 &                 399.3 &                 267.7 &                  96.8 &                 410.1 \\\\\\\\\\n2006-09-01 &                2248.9 &                  10.4 &                 240.5 &                 185.4 &                 516.0 &                  42.8 &                 402.6 &                 269.5 &                  97.6 &                 410.0 \\\\\\\\\\n2006-10-01 &                2245.1 &                  10.3 &                 238.0 &                 184.3 &                 518.3 &                  42.5 &                 401.4 &                 269.4 &                  95.7 &                 414.1 \\\\\\\\\\n2006-11-01 &                2245.6 &                  10.5 &                 237.2 &                 181.6 &                 519.2 &                  42.1 &                 401.7 &                 270.1 &                  96.3 &                 413.6 \\\\\\\\\\n2006-12-01 &                2253.9 &                  10.5 &                 236.0 &                 181.9 &                 522.1 &                  42.3 &                 403.4 &                 270.4 &                  97.1 &                 409.9 \\\\\\\\\\n2007-01-01 &                2252.6 &                  10.6 &                 234.0 &                 182.4 &                 522.7 &                  41.2 &                 402.5 &                 270.8 &                  97.7 &                 412.8 \\\\\\\\\\n2007-02-01 &                2258.8 &                  10.7 &                 233.0 &                 184.1 &                 524.1 &                  41.4 &                 402.6 &                 271.6 &                  98.4 &                 414.8 \\\\\\\\\\n2007-03-01 &                2264.1 &                  10.9 &                 231.4 &                 183.7 &                 525.1 &                  41.3 &                 405.6 &                 272.8 &                  99.0 &                 417.0 \\\\\\\\\\n2007-04-01 &                2257.0 &                  10.8 &                 228.7 &                 182.6 &                 526.4 &                  41.7 &                 403.4 &                 271.4 &                  98.8 &                 417.1 \\\\\\\\\\n2007-05-01 &                2258.5 &                  10.9 &                 227.8 &                 182.2 &                 527.3 &                  41.9 &                 403.9 &                 271.9 &                  98.9 &                 416.9 \\\\\\\\\\n2007-06-01 &                2263.5 &                  11.0 &                 228.4 &                 181.7 &                 528.4 &                  41.7 &                 405.1 &                 272.0 &                  99.4 &                 420.2 \\\\\\\\\\n2007-06-01 &                2263.5 &                  11.0 &                 228.4 &                 181.7 &                 528.4 &                  41.7 &                 405.1 &                 272.0 &                  99.4 &                 420.2 \\\\\\\\\\n2007-06-01 &                2263.5 &                  11.0 &                 228.4 &                 181.7 &                 528.4 &                  41.7 &                 405.1 &                 272.0 &                  99.4 &                 420.2 \\\\\\\\\\n2007-06-01 &                2263.5 &                  11.0 &                 228.4 &                 181.7 &                 528.4 &                  41.7 &                 405.1 &                 272.0 &                  99.4 &                 420.2 \\\\\\\\\\n2007-06-01 &                2263.5 &                  11.0 &                 228.4 &                 181.7 &                 528.4 &                  41.7 &                 405.1 &                 272.0 &                  99.4 &                 420.2 \\\\\\\\\\n2007-06-01 &                2263.5 &                  11.0 &                 228.4 &                 181.7 &                 528.4 &                  41.7 &                 405.1 &                 272.0 &                  99.4 &                 420.2 \\\\\\\\\\n2007-06-01 &                2263.5 &                  11.0 &                 228.4 &                 181.7 &                 528.4 &                  41.7 &                 405.1 &                 272.0 &                  99.4 &                 420.2 \\\\\\\\\\n2007-06-01 &                2263.5 &                  11.0 &                 228.4 &                 181.7 &                 528.4 &                  41.7 &                 405.1 &                 272.0 &                  99.4 &                 420.2 \\\\\\\\\\n2007-07-01 &                2259.8 &                  11.6 &                 225.4 &                 181.9 &                 528.5 &                  41.9 &                 405.3 &                 270.4 &                  98.3 &                 423.3 \\\\\\\\\\n2007-08-01 &                2257.5 &                  11.8 &                 223.9 &                 181.4 &                 528.7 &                  41.6 &                 405.1 &                 272.4 &                  98.2 &                 425.1 \\\\\\\\\\n2007-09-01 &                2257.7 &                  12.0 &                 221.8 &                 180.3 &                 529.4 &                  41.7 &                 404.9 &                 273.4 &                  99.4 &                 425.8 \\\\\\\\\\n2007-10-01 &                2259.7 &                  12.3 &                 219.1 &                 180.3 &                 529.3 &                  41.6 &                 405.4 &                 275.5 &                  99.7 &                 426.6 \\\\\\\\\\n2007-11-01 &                2255.9 &                  12.4 &                 215.0 &                 179.6 &                 530.1 &                  41.6 &                 404.8 &                 275.6 &                 100.5 &                 427.8 \\\\\\\\\\n2007-12-01 &                2250.7 &                  12.6 &                 210.5 &                 179.0 &                 530.7 &                  41.2 &                 402.3 &                 276.6 &                 100.9 &                 428.7 \\\\\\\\\\n2008-01-01 &                2246.1 &                  12.8 &                 207.6 &                 178.8 &                 529.2 &                  41.1 &                 401.4 &                 276.0 &                 101.6 &                 432.7 \\\\\\\\\\n2008-02-01 &                2240.3 &                  12.9 &                 204.0 &                 177.7 &                 528.8 &                  41.3 &                 399.9 &                 275.1 &                 101.5 &                 432.1 \\\\\\\\\\n2008-03-01 &                2229.8 &                  13.0 &                 201.2 &                 176.1 &                 526.3 &                  41.8 &                 396.8 &                 273.4 &                 101.3 &                 431.6 \\\\\\\\\\n2008-04-01 &                2220.4 &                  13.1 &                 197.3 &                 175.7 &                 522.5 &                  41.0 &                 394.7 &                 272.5 &                 101.3 &                 432.9 \\\\\\\\\\n2008-05-01 &                2213.5 &                  13.4 &                 193.4 &                 174.9 &                 522.8 &                  41.8 &                 391.8 &                 270.8 &                 101.1 &                 433.3 \\\\\\\\\\n2008-06-01 &                2203.9 &                  13.6 &                 189.4 &                 174.1 &                 522.0 &                  41.5 &                 388.4 &                 270.6 &                 100.8 &                 433.2 \\\\\\\\\\n2008-07-01 &                2188.2 &                  13.9 &                 185.5 &                 173.0 &                 514.5 &                  40.6 &                 386.7 &                 270.0 &                 100.6 &                 430.6 \\\\\\\\\\n2008-08-01 &                2182.0 &                  14.0 &                 181.5 &                 172.1 &                 514.6 &                  40.3 &                 385.4 &                 269.9 &                 100.4 &                 434.4 \\\\\\\\\\n2008-09-01 &                2171.2 &                  14.4 &                 177.3 &                 171.2 &                 511.0 &                  41.2 &                 382.8 &                 269.1 &                  99.8 &                 430.9 \\\\\\\\\\n2008-10-01 &                2152.3 &                  13.9 &                 171.2 &                 169.8 &                 508.4 &                  40.5 &                 377.8 &                 267.1 &                  99.3 &                 430.9 \\\\\\\\\\n2008-11-01 &                2132.0 &                  13.8 &                 165.1 &                 167.5 &                 504.1 &                  40.3 &                 373.0 &                 265.5 &                  98.8 &                 431.7 \\\\\\\\\\n2008-12-01 &                2108.8 &                  13.9 &                 159.2 &                 165.3 &                 498.0 &                  40.3 &                 367.9 &                 263.3 &                  98.1 &                 431.5 \\\\\\\\\\n2009-01-01 &                2087.3 &                  12.7 &                 153.0 &                 162.7 &                 494.9 &                  39.5 &                 363.9 &                 261.6 &                  97.2 &                 429.9 \\\\\\\\\\n2009-02-01 &                2064.5 &                  12.2 &                 145.5 &                 160.0 &                 489.6 &                  39.6 &                 358.6 &                 260.8 &                  96.3 &                 427.2 \\\\\\\\\\n2009-02-01 &                2064.5 &                  12.2 &                 145.5 &                 160.0 &                 489.6 &                  39.6 &                 358.6 &                 260.8 &                  96.3 &                 427.2 \\\\\\\\\\n2009-02-01 &                2064.5 &                  12.2 &                 145.5 &                 160.0 &                 489.6 &                  39.6 &                 358.6 &                 260.8 &                  96.3 &                 427.2 \\\\\\\\\\n2009-02-01 &                2064.5 &                  12.2 &                 145.5 &                 160.0 &                 489.6 &                  39.6 &                 358.6 &                 260.8 &                  96.3 &                 427.2 \\\\\\\\\\n2009-02-01 &                2064.5 &                  12.2 &                 145.5 &                 160.0 &                 489.6 &                  39.6 &                 358.6 &                 260.8 &                  96.3 &                 427.2 \\\\\\\\\\n2009-02-01 &                2064.5 &                  12.2 &                 145.5 &                 160.0 &                 489.6 &                  39.6 &                 358.6 &                 260.8 &                  96.3 &                 427.2 \\\\\\\\\\n2009-02-01 &                2064.5 &                  12.2 &                 145.5 &                 160.0 &                 489.6 &                  39.6 &                 358.6 &                 260.8 &                  96.3 &                 427.2 \\\\\\\\\\n2009-02-01 &                2064.5 &                  12.2 &                 145.5 &                 160.0 &                 489.6 &                  39.6 &                 358.6 &                 260.8 &                  96.3 &                 427.2 \\\\\\\\\\n2009-02-01 &                2064.5 &                  12.2 &                 145.5 &                 160.0 &                 489.6 &                  39.6 &                 358.6 &                 260.8 &                  96.3 &                 427.2 \\\\\\\\\\n2009-02-01 &                2064.5 &                  12.2 &                 145.5 &                 160.0 &                 489.6 &                  39.6 &                 358.6 &                 260.8 &                  96.3 &                 427.2 \\\\\\\\\\n2009-03-01 &                2045.8 &                  12.2 &                 140.3 &                 157.5 &                 486.9 &                  38.8 &                 353.6 &                 259.4 &                  95.7 &                 426.6 \\\\\\\\\\n2009-04-01 &                2020.1 &                  10.9 &                 133.6 &                 155.6 &                 481.3 &                  38.5 &                 347.8 &                 257.1 &                  94.0 &                 427.5 \\\\\\\\\\n2009-05-01 &                2015.7 &                  10.6 &                 131.2 &                 154.1 &                 480.5 &                  38.7 &                 346.7 &                 257.4 &                  93.8 &                 423.3 \\\\\\\\\\n2009-06-01 &                2005.3 &                  10.6 &                 128.3 &                 152.7 &                 478.1 &                  38.1 &                 344.0 &                 256.5 &                  93.7 &                 422.0 \\\\\\\\\\n2009-07-01 &                1996.9 &                  10.7 &                 124.6 &                 151.6 &                 476.7 &                  38.1 &                 342.4 &                 255.2 &                  93.1 &                 423.0 \\\\\\\\\\n2009-08-01 &                1989.7 &                  10.7 &                 121.7 &                 150.8 &                 474.9 &                  37.8 &                 340.4 &                 255.5 &                  93.1 &                 420.1 \\\\\\\\\\n2009-09-01 &                1978.1 &                  10.7 &                 118.6 &                 150.2 &                 472.8 &                  37.5 &                 339.0 &                 252.8 &                  92.1 &                 419.2 \\\\\\\\\\n2009-10-01 &                1972.1 &                  10.7 &                 116.8 &                 149.7 &                 468.8 &                  37.2 &                 339.2 &                 252.4 &                  91.3 &                 419.5 \\\\\\\\\\n2009-11-01 &                1970.4 &                  10.8 &                 115.7 &                 149.5 &                 468.2 &                  36.9 &                 341.0 &                 251.4 &                  90.6 &                 418.1 \\\\\\\\\\n2009-12-01 &                1965.2 &                  10.8 &                 114.6 &                 148.9 &                 466.6 &                  36.8 &                 338.9 &                 251.7 &                  90.3 &                 416.9 \\\\\\\\\\n2010-01-01 &                1964.8 &                  10.9 &                 113.8 &                 148.3 &                 467.4 &                  36.8 &                 338.8 &                 251.8 &                  89.1 &                 418.0 \\\\\\\\\\n2010-02-01 &                1965.0 &                  11.0 &                 113.6 &                 148.4 &                 469.1 &                  36.7 &                 338.3 &                 251.3 &                  88.7 &                 417.6 \\\\\\\\\\n2010-03-01 &                1967.0 &                  10.9 &                 112.8 &                 148.4 &                 469.2 &                  36.9 &                 339.9 &                 251.3 &                  88.4 &                 417.3 \\\\\\\\\\n2010-04-01 &                1968.4 &                  10.9 &                 112.7 &                 148.6 &                 469.4 &                  36.7 &                 341.6 &                 253.3 &                  87.6 &                 419.1 \\\\\\\\\\n2010-05-01 &                1970.7 &                  11.0 &                 111.9 &                 148.6 &                 469.9 &                  36.5 &                 341.9 &                 253.4 &                  88.1 &                 429.3 \\\\\\\\\\n2010-06-01 &                1971.4 &                  10.9 &                 110.8 &                 148.4 &                 468.9 &                  37.1 &                 341.2 &                 254.9 &                  88.6 &                 418.2 \\\\\\\\\\n2010-07-01 &                1968.1 &                  10.8 &                 110.4 &                 148.2 &                 468.3 &                  36.3 &                 339.9 &                 254.7 &                  88.1 &                 415.9 \\\\\\\\\\n2010-08-01 &                1966.5 &                  10.7 &                 110.0 &                 147.8 &                 467.0 &                  36.2 &                 339.7 &                 254.4 &                  87.6 &                 413.4 \\\\\\\\\\n2010-09-01 &                1961.4 &                  10.6 &                 109.5 &                 147.8 &                 465.6 &                  36.4 &                 338.5 &                 253.3 &                  87.4 &                 411.2 \\\\\\\\\\n2010-10-01 &                1974.4 &                  11.0 &                 110.8 &                 148.2 &                 466.1 &                  36.2 &                 341.7 &                 255.0 &                  87.9 &                 410.9 \\\\\\\\\\n2010-11-01 &                1978.1 &                  11.2 &                 111.3 &                 148.6 &                 466.2 &                  36.2 &                 341.4 &                 256.4 &                  88.3 &                 411.3 \\\\\\\\\\n2010-12-01 &                1985.7 &                  11.3 &                 111.6 &                 148.6 &                 467.7 &                  36.7 &                 343.6 &                 257.1 &                  89.6 &                 410.5 \\\\\\\\\\n2011-01-01 &                1986.8 &                  11.4 &                 110.7 &                 148.9 &                 469.6 &                  36.7 &                 344.4 &                 256.2 &                  88.8 &                 410.2 \\\\\\\\\\n2011-02-01 &                1987.7 &                  11.5 &                 109.5 &                 148.9 &                 470.0 &                  36.5 &                 346.0 &                 256.2 &                  89.1 &                 410.5 \\\\\\\\\\n2011-03-01 &                1990.7 &                  11.6 &                 109.8 &                 149.1 &                 471.1 &                  36.4 &                 346.2 &                 256.8 &                  88.7 &                 410.7 \\\\\\\\\\n2011-04-01 &                1996.8 &                  11.2 &                 109.8 &                 149.4 &                 472.7 &                  36.5 &                 347.1 &                 257.6 &                  89.1 &                 410.7 \\\\\\\\\\n2011-05-01 &                2001.6 &                  11.4 &                 110.2 &                 150.2 &                 472.7 &                  36.6 &                 345.7 &                 258.9 &                  88.6 &                 411.0 \\\\\\\\\\n2011-06-01 &                1998.4 &                  11.5 &                 110.5 &                 149.9 &                 473.0 &                  36.8 &                 344.8 &                 258.8 &                  88.0 &                 402.0 \\\\\\\\\\n2011-07-01 &                2004.7 &                  11.0 &                 111.7 &                 150.4 &                 472.9 &                  37.3 &                 346.8 &                 259.6 &                  88.1 &                 400.6 \\\\\\\\\\n2011-08-01 &                2007.8 &                  11.2 &                 111.6 &                 150.8 &                 473.9 &                  37.4 &                 347.4 &                 259.7 &                  87.5 &                 408.7 \\\\\\\\\\n2011-09-01 &                2015.2 &                  11.4 &                 111.7 &                 151.1 &                 474.9 &                  37.7 &                 349.1 &                 261.4 &                  87.3 &                 409.0 \\\\\\\\\\n2011-10-01 &                2016.1 &                  12.1 &                 111.4 &                 151.3 &                 475.2 &                  38.2 &                 348.5 &                 261.4 &                  86.8 &                 409.3 \\\\\\\\\\n2011-11-01 &                2020.2 &                  12.2 &                 111.5 &                 151.8 &                 476.4 &                  38.5 &                 348.6 &                 262.4 &                  86.5 &                 408.6 \\\\\\\\\\n2011-12-01 &                2025.1 &                  12.3 &                 111.8 &                 152.2 &                 475.8 &                  38.6 &                 350.8 &                 262.1 &                  86.1 &                 409.2 \\\\\\\\\\n2012-01-01 &                2033.7 &                  12.3 &                 112.7 &                 153.1 &                 477.5 &                  38.7 &                 351.1 &                 263.9 &                  86.1 &                 407.3 \\\\\\\\\\n2012-02-01 &                2033.9 &                  12.4 &                 112.7 &                 153.5 &                 475.9 &                  38.9 &                 351.9 &                 264.0 &                  85.4 &                 408.6 \\\\\\\\\\n2012-03-01 &                2041.3 &                  12.5 &                 113.8 &                 154.3 &                 476.4 &                  39.1 &                 353.5 &                 265.5 &                  85.7 &                 409.9 \\\\\\\\\\n2012-04-01 &                2041.6 &                  12.5 &                 114.0 &                 154.9 &                 475.7 &                  39.4 &                 353.6 &                 265.3 &                  85.8 &                 409.6 \\\\\\\\\\n2012-05-01 &                2045.7 &                  12.6 &                 114.2 &                 154.9 &                 475.8 &                  39.6 &                 355.1 &                 266.1 &                  85.9 &                 404.8 \\\\\\\\\\n2012-06-01 &                2050.4 &                  12.5 &                 115.1 &                 155.2 &                 475.7 &                  39.6 &                 357.3 &                 266.6 &                  86.1 &                 413.3 \\\\\\\\\\n2012-07-01 &                2052.1 &                  12.7 &                 116.2 &                 155.2 &                 475.4 &                  39.8 &                 358.5 &                 266.6 &                  86.2 &                 408.4 \\\\\\\\\\n2012-08-01 &                2058.2 &                  12.8 &                 117.2 &                 155.5 &                 474.4 &                  40.1 &                 360.6 &                 267.6 &                  86.4 &                 411.5 \\\\\\\\\\n2012-09-01 &                2064.7 &                  12.9 &                 118.4 &                 155.5 &                 475.5 &                  40.2 &                 361.5 &                 269.0 &                  86.4 &                 411.6 \\\\\\\\\\n2012-10-01 &                2068.3 &                  12.8 &                 119.0 &                 155.5 &                 477.0 &                  40.3 &                 361.5 &                 269.5 &                  86.3 &                 410.2 \\\\\\\\\\n2012-11-01 &                2073.6 &                  13.0 &                 119.5 &                 155.4 &                 478.9 &                  40.6 &                 363.4 &                 268.6 &                  86.6 &                 411.0 \\\\\\\\\\n2012-12-01 &                2075.9 &                  13.1 &                 119.9 &                 155.4 &                 477.4 &                  40.9 &                 364.1 &                 269.4 &                  86.6 &                 411.2 \\\\\\\\\\n2013-01-01 &                2082.1 &                  13.1 &                 120.1 &                 155.2 &                 476.6 &                  41.1 &                 368.9 &                 270.5 &                  86.4 &                 410.6 \\\\\\\\\\n2013-02-01 &                2087.5 &                  13.2 &                 121.0 &                 155.3 &                 476.5 &                  41.4 &                 368.6 &                 272.1 &                  87.5 &                 410.0 \\\\\\\\\\n2013-03-01 &                2092.5 &                  13.2 &                 121.5 &                 155.3 &                 475.9 &                  41.7 &                 370.7 &                 272.3 &                  86.9 &                 409.9 \\\\\\\\\\n2013-04-01 &                2099.7 &                  13.3 &                 122.3 &                 155.3 &                 477.8 &                  41.7 &                 372.4 &                 273.3 &                  87.3 &                 410.1 \\\\\\\\\\n2013-05-01 &                2105.2 &                  13.4 &                 123.2 &                 155.1 &                 479.1 &                  42.2 &                 373.8 &                 274.4 &                  87.3 &                 410.0 \\\\\\\\\\n2013-06-01 &                2109.5 &                  13.4 &                 124.6 &                 155.1 &                 480.0 &                  41.7 &                 375.6 &                 274.8 &                  87.1 &                 410.4 \\\\\\\\\\n2013-07-01 &                2114.2 &                  13.4 &                 124.7 &                 155.4 &                 481.6 &                  41.9 &                 376.0 &                 276.1 &                  87.0 &                 408.9 \\\\\\\\\\n2013-08-01 &                2119.1 &                  13.3 &                 124.9 &                 155.0 &                 482.4 &                  42.1 &                 376.7 &                 277.6 &                  87.1 &                 407.6 \\\\\\\\\\n2013-09-01 &                2123.3 &                  13.2 &                 125.0 &                 155.1 &                 483.9 &                  42.2 &                 377.0 &                 278.7 &                  87.1 &                 410.0 \\\\\\\\\\n2013-10-01 &                2126.8 &                  13.2 &                 125.5 &                 155.3 &                 485.0 &                  42.4 &                 377.3 &                 280.0 &                  87.3 &                 410.2 \\\\\\\\\\n2013-11-01 &                2135.3 &                  13.1 &                 125.8 &                 155.2 &                 486.1 &                  42.5 &                 381.4 &                 281.0 &                  87.3 &                 409.6 \\\\\\\\\\n2013-12-01 &                2136.8 &                  13.1 &                 126.2 &                 155.0 &                 487.5 &                  42.5 &                 380.7 &                 281.5 &                  87.3 &                 409.2 \\\\\\\\\\n2014-01-01 &                2134.8 &                  13.1 &                 127.5 &                 156.1 &                 488.1 &                  42.8 &                 375.4 &                 280.7 &                  87.2 &                 412.6 \\\\\\\\\\n2014-02-01 &                2140.6 &                  13.1 &                 127.7 &                 156.8 &                 489.3 &                  42.8 &                 375.8 &                 283.3 &                  87.2 &                 409.4 \\\\\\\\\\n2014-03-01 &                2142.6 &                  13.1 &                 126.1 &                 156.7 &                 490.1 &                  43.1 &                 377.3 &                 284.0 &                  87.3 &                 408.5 \\\\\\\\\\n2014-04-01 &                2151.5 &                  13.1 &                 127.2 &                 156.8 &                 491.1 &                  43.3 &                 379.4 &                 284.7 &                  87.6 &                 409.1 \\\\\\\\\\n2014-05-01 &                2154.9 &                  13.1 &                 125.8 &                 156.8 &                 491.2 &                  43.4 &                 381.5 &                 285.8 &                  87.6 &                 402.4 \\\\\\\\\\n2014-06-01 &                2156.4 &                  13.1 &                 124.5 &                 156.7 &                 492.3 &                  43.6 &                 382.4 &                 286.1 &                  87.4 &                 413.5 \\\\\\\\\\n2014-07-01 &                2157.8 &                  13.0 &                 123.8 &                 156.3 &                 492.3 &                  44.0 &                 383.2 &                 286.0 &                  87.5 &                 414.3 \\\\\\\\\\n2014-07-01 &                2157.8 &                  13.0 &                 123.8 &                 156.3 &                 492.3 &                  44.0 &                 383.2 &                 286.0 &                  87.5 &                 414.3 \\\\\\\\\\n2014-07-01 &                2157.8 &                  13.0 &                 123.8 &                 156.3 &                 492.3 &                  44.0 &                 383.2 &                 286.0 &                  87.5 &                 414.3 \\\\\\\\\\n2014-07-01 &                2157.8 &                  13.0 &                 123.8 &                 156.3 &                 492.3 &                  44.0 &                 383.2 &                 286.0 &                  87.5 &                 414.3 \\\\\\\\\\n2014-07-01 &                2157.8 &                  13.0 &                 123.8 &                 156.3 &                 492.3 &                  44.0 &                 383.2 &                 286.0 &                  87.5 &                 414.3 \\\\\\\\\\n2014-07-01 &                2157.8 &                  13.0 &                 123.8 &                 156.3 &                 492.3 &                  44.0 &                 383.2 &                 286.0 &                  87.5 &                 414.3 \\\\\\\\\\n2014-07-01 &                2157.8 &                  13.0 &                 123.8 &                 156.3 &                 492.3 &                  44.0 &                 383.2 &                 286.0 &                  87.5 &                 414.3 \\\\\\\\\\n2014-07-01 &                2157.8 &                  13.0 &                 123.8 &                 156.3 &                 492.3 &                  44.0 &                 383.2 &                 286.0 &                  87.5 &                 414.3 \\\\\\\\\\n2014-07-01 &                2157.8 &                  13.0 &                 123.8 &                 156.3 &                 492.3 &                  44.0 &                 383.2 &                 286.0 &                  87.5 &                 414.3 \\\\\\\\\\n2014-08-01 &                2163.9 &                  13.0 &                 123.2 &                 156.5 &                 493.4 &                  43.9 &                 385.8 &                 287.4 &                  87.7 &                 409.4 \\\\\\\\\\n2014-09-01 &                2167.3 &                  13.1 &                 123.0 &                 156.4 &                 494.1 &                  43.9 &                 387.1 &                 288.5 &                  87.7 &                 411.0 \\\\\\\\\\n2014-10-01 &                2179.0 &                  13.2 &                 124.1 &                 156.5 &                 495.3 &                  44.3 &                 390.1 &                 290.4 &                  88.2 &                 411.0 \\\\\\\\\\n2014-11-01 &                2183.7 &                  13.3 &                 124.4 &                 156.8 &                 496.5 &                  43.9 &                 391.3 &                 291.0 &                  88.1 &                 411.2 \\\\\\\\\\n2014-12-01 &                2188.8 &                  13.3 &                 124.6 &                 157.1 &                 497.5 &                  44.3 &                 392.4 &                 291.8 &                  88.1 &                 410.8 \\\\\\\\\\n2015-01-01 &                2195.3 &                  12.7 &                 126.1 &                 156.6 &                 498.4 &                  44.4 &                 392.1 &                 295.6 &                  88.3 &                 410.4 \\\\\\\\\\n2015-02-01 &                2201.0 &                  12.8 &                 126.4 &                 156.9 &                 500.1 &                  45.8 &                 392.6 &                 295.2 &                  88.3 &                 410.1 \\\\\\\\\\n2015-03-01 &                2202.3 &                  12.7 &                 125.8 &                 156.8 &                 501.3 &                  44.6 &                 392.2 &                 296.0 &                  88.2 &                 410.1 \\\\\\\\\\n2015-04-01 &                2206.5 &                  12.5 &                 126.3 &                 156.9 &                 502.0 &                  44.6 &                 393.1 &                 296.6 &                  88.1 &                 409.3 \\\\\\\\\\n2015-04-01 &                2206.5 &                  12.5 &                 126.3 &                 156.9 &                 502.0 &                  44.6 &                 393.1 &                 296.6 &                  88.1 &                 409.3 \\\\\\\\\\n2015-04-01 &                2206.5 &                  12.5 &                 126.3 &                 156.9 &                 502.0 &                  44.6 &                 393.1 &                 296.6 &                  88.1 &                 409.3 \\\\\\\\\\n2015-04-01 &                2206.5 &                  12.5 &                 126.3 &                 156.9 &                 502.0 &                  44.6 &                 393.1 &                 296.6 &                  88.1 &                 409.3 \\\\\\\\\\n2015-04-01 &                2206.5 &                  12.5 &                 126.3 &                 156.9 &                 502.0 &                  44.6 &                 393.1 &                 296.6 &                  88.1 &                 409.3 \\\\\\\\\\n2015-04-01 &                2206.5 &                  12.5 &                 126.3 &                 156.9 &                 502.0 &                  44.6 &                 393.1 &                 296.6 &                  88.1 &                 409.3 \\\\\\\\\\n2015-04-01 &                2206.5 &                  12.5 &                 126.3 &                 156.9 &                 502.0 &                  44.6 &                 393.1 &                 296.6 &                  88.1 &                 409.3 \\\\\\\\\\n2015-04-01 &                2206.5 &                  12.5 &                 126.3 &                 156.9 &                 502.0 &                  44.6 &                 393.1 &                 296.6 &                  88.1 &                 409.3 \\\\\\\\\\n2015-04-01 &                2206.5 &                  12.5 &                 126.3 &                 156.9 &                 502.0 &                  44.6 &                 393.1 &                 296.6 &                  88.1 &                 409.3 \\\\\\\\\\n2015-04-01 &                2206.5 &                  12.5 &                 126.3 &                 156.9 &                 502.0 &                  44.6 &                 393.1 &                 296.6 &                  88.1 &                 409.3 \\\\\\\\\\n2015-04-01 &                2206.5 &                  12.5 &                 126.3 &                 156.9 &                 502.0 &                  44.6 &                 393.1 &                 296.6 &                  88.1 &                 409.3 \\\\\\\\\\n2015-05-01 &                2212.5 &                  12.6 &                 126.9 &                 157.3 &                 503.4 &                  44.9 &                 394.1 &                 296.6 &                  88.2 &                 404.2 \\\\\\\\\\n2015-05-01 &                2212.5 &                  12.6 &                 126.9 &                 157.3 &                 503.4 &                  44.9 &                 394.1 &                 296.6 &                  88.2 &                 404.2 \\\\\\\\\\n2015-05-01 &                2212.5 &                  12.6 &                 126.9 &                 157.3 &                 503.4 &                  44.9 &                 394.1 &                 296.6 &                  88.2 &                 404.2 \\\\\\\\\\n2015-05-01 &                2212.5 &                  12.6 &                 126.9 &                 157.3 &                 503.4 &                  44.9 &                 394.1 &                 296.6 &                  88.2 &                 404.2 \\\\\\\\\\n2015-05-01 &                2212.5 &                  12.6 &                 126.9 &                 157.3 &                 503.4 &                  44.9 &                 394.1 &                 296.6 &                  88.2 &                 404.2 \\\\\\\\\\n2015-05-01 &                2212.5 &                  12.6 &                 126.9 &                 157.3 &                 503.4 &                  44.9 &                 394.1 &                 296.6 &                  88.2 &                 404.2 \\\\\\\\\\n2015-05-01 &                2212.5 &                  12.6 &                 126.9 &                 157.3 &                 503.4 &                  44.9 &                 394.1 &                 296.6 &                  88.2 &                 404.2 \\\\\\\\\\n2015-05-01 &                2212.5 &                  12.6 &                 126.9 &                 157.3 &                 503.4 &                  44.9 &                 394.1 &                 296.6 &                  88.2 &                 404.2 \\\\\\\\\\n2015-05-01 &                2212.5 &                  12.6 &                 126.9 &                 157.3 &                 503.4 &                  44.9 &                 394.1 &                 296.6 &                  88.2 &                 404.2 \\\\\\\\\\n2015-05-01 &                2212.5 &                  12.6 &                 126.9 &                 157.3 &                 503.4 &                  44.9 &                 394.1 &                 296.6 &                  88.2 &                 404.2 \\\\\\\\\\n2015-05-01 &                2212.5 &                  12.6 &                 126.9 &                 157.3 &                 503.4 &                  44.9 &                 394.1 &                 296.6 &                  88.2 &                 404.2 \\\\\\\\\\n2015-05-01 &                2212.5 &                  12.6 &                 126.9 &                 157.3 &                 503.4 &                  44.9 &                 394.1 &                 296.6 &                  88.2 &                 404.2 \\\\\\\\\\n2015-05-01 &                2212.5 &                  12.6 &                 126.9 &                 157.3 &                 503.4 &                  44.9 &                 394.1 &                 296.6 &                  88.2 &                 404.2 \\\\\\\\\\n2015-05-01 &                2212.5 &                  12.6 &                 126.9 &                 157.3 &                 503.4 &                  44.9 &                 394.1 &                 296.6 &                  88.2 &                 404.2 \\\\\\\\\\n2015-06-01 &                2217.1 &                  12.7 &                 126.7 &                 157.7 &                 505.1 &                  44.9 &                 394.0 &                 297.9 &                  88.3 &                 407.7 \\\\\\\\\\n2015-07-01 &                2229.7 &                  12.7 &                 127.4 &                 158.8 &                 507.6 &                  44.9 &                 397.2 &                 300.0 &                  88.3 &                 406.3 \\\\\\\\\\n2015-08-01 &                2235.9 &                  12.7 &                 127.9 &                 159.0 &                 509.4 &                  44.7 &                 399.0 &                 300.6 &                  88.1 &                 408.9 \\\\\\\\\\n2015-09-01 &                2240.2 &                  12.5 &                 127.9 &                 158.6 &                 510.9 &                  44.9 &                 400.4 &                 300.9 &                  88.5 &                 409.6 \\\\\\\\\\n2015-10-01 &                2257.3 &                  12.0 &                 127.7 &                 159.4 &                 513.0 &                  46.4 &                 404.9 &                 302.7 &                  89.5 &                 407.4 \\\\\\\\\\n2015-11-01 &                2268.3 &                  11.9 &                 131.1 &                 160.1 &                 514.3 &                  46.6 &                 408.7 &                 304.3 &                  88.8 &                 409.4 \\\\\\\\\\n2015-12-01 &                2273.7 &                  12.0 &                 130.1 &                 160.3 &                 513.2 &                  46.9 &                 412.6 &                 304.4 &                  89.5 &                 407.9 \\\\\\\\\\n2016-01-01 &                2279.9 &                  11.7 &                 131.8 &                 161.7 &                 512.3 &                  48.1 &                 411.6 &                 303.2 &                  89.5 &                 403.2 \\\\\\\\\\n2016-02-01 &                2281.4 &                  11.6 &                 132.5 &                 159.6 &                 513.1 &                  47.5 &                 411.5 &                 303.3 &                  89.5 &                 407.5 \\\\\\\\\\n2016-03-01 &                2283.5 &                  11.7 &                 134.0 &                 159.4 &                 513.3 &                  47.7 &                 406.8 &                 305.2 &                  89.4 &                 408.4 \\\\\\\\\\n2016-04-01 &                2288.4 &                  11.6 &                 133.9 &                 157.5 &                 516.2 &                  48.2 &                 409.5 &                 304.7 &                  89.0 &                 408.6 \\\\\\\\\\n2016-05-01 &                2286.0 &                  11.7 &                 134.6 &                 159.0 &                 517.0 &                  47.9 &                 406.2 &                 305.0 &                  88.1 &                 404.4 \\\\\\\\\\n2016-05-01 &                2286.0 &                  11.7 &                 134.6 &                 159.0 &                 517.0 &                  47.9 &                 406.2 &                 305.0 &                  88.1 &                 404.4 \\\\\\\\\\n2016-05-01 &                2286.0 &                  11.7 &                 134.6 &                 159.0 &                 517.0 &                  47.9 &                 406.2 &                 305.0 &                  88.1 &                 404.4 \\\\\\\\\\n2016-05-01 &                2286.0 &                  11.7 &                 134.6 &                 159.0 &                 517.0 &                  47.9 &                 406.2 &                 305.0 &                  88.1 &                 404.4 \\\\\\\\\\n2016-05-01 &                2286.0 &                  11.7 &                 134.6 &                 159.0 &                 517.0 &                  47.9 &                 406.2 &                 305.0 &                  88.1 &                 404.4 \\\\\\\\\\n2016-05-01 &                2286.0 &                  11.7 &                 134.6 &                 159.0 &                 517.0 &                  47.9 &                 406.2 &                 305.0 &                  88.1 &                 404.4 \\\\\\\\\\n2016-05-01 &                2286.0 &                  11.7 &                 134.6 &                 159.0 &                 517.0 &                  47.9 &                 406.2 &                 305.0 &                  88.1 &                 404.4 \\\\\\\\\\n2016-05-01 &                2286.0 &                  11.7 &                 134.6 &                 159.0 &                 517.0 &                  47.9 &                 406.2 &                 305.0 &                  88.1 &                 404.4 \\\\\\\\\\n2016-05-01 &                2286.0 &                  11.7 &                 134.6 &                 159.0 &                 517.0 &                  47.9 &                 406.2 &                 305.0 &                  88.1 &                 404.4 \\\\\\\\\\n2016-05-01 &                2286.0 &                  11.7 &                 134.6 &                 159.0 &                 517.0 &                  47.9 &                 406.2 &                 305.0 &                  88.1 &                 404.4 \\\\\\\\\\n2016-05-01 &                2286.0 &                  11.7 &                 134.6 &                 159.0 &                 517.0 &                  47.9 &                 406.2 &                 305.0 &                  88.1 &                 404.4 \\\\\\\\\\n2016-05-01 &                2286.0 &                  11.7 &                 134.6 &                 159.0 &                 517.0 &                  47.9 &                 406.2 &                 305.0 &                  88.1 &                 404.4 \\\\\\\\\\n2016-05-01 &                2286.0 &                  11.7 &                 134.6 &                 159.0 &                 517.0 &                  47.9 &                 406.2 &                 305.0 &                  88.1 &                 404.4 \\\\\\\\\\n2016-05-01 &                2286.0 &                  11.7 &                 134.6 &                 159.0 &                 517.0 &                  47.9 &                 406.2 &                 305.0 &                  88.1 &                 404.4 \\\\\\\\\\n2016-05-01 &                2286.0 &                  11.7 &                 134.6 &                 159.0 &                 517.0 &                  47.9 &                 406.2 &                 305.0 &                  88.1 &                 404.4 \\\\\\\\\\n2016-05-01 &                2286.0 &                  11.7 &                 134.6 &                 159.0 &                 517.0 &                  47.9 &                 406.2 &                 305.0 &                  88.1 &                 404.4 \\\\\\\\\\n2016-05-01 &                2286.0 &                  11.7 &                 134.6 &                 159.0 &                 517.0 &                  47.9 &                 406.2 &                 305.0 &                  88.1 &                 404.4 \\\\\\\\\\n2016-05-01 &                2286.0 &                  11.7 &                 134.6 &                 159.0 &                 517.0 &                  47.9 &                 406.2 &                 305.0 &                  88.1 &                 404.4 \\\\\\\\\\n2016-05-01 &                2286.0 &                  11.7 &                 134.6 &                 159.0 &                 517.0 &                  47.9 &                 406.2 &                 305.0 &                  88.1 &                 404.4 \\\\\\\\\\n2016-05-01 &                2286.0 &                  11.7 &                 134.6 &                 159.0 &                 517.0 &                  47.9 &                 406.2 &                 305.0 &                  88.1 &                 404.4 \\\\\\\\\\n2016-05-01 &                2286.0 &                  11.7 &                 134.6 &                 159.0 &                 517.0 &                  47.9 &                 406.2 &                 305.0 &                  88.1 &                 404.4 \\\\\\\\\\n2016-05-01 &                   NaN &                  11.7 &                 134.6 &                 159.0 &                 517.0 &                  47.9 &                 406.2 &                 305.0 &                  88.1 &                 404.4 \\\\\\\\\\n2016-05-01 &                2286.0 &                  11.7 &                 134.6 &                 159.0 &                 517.0 &                  47.9 &                 406.2 &                 305.0 &                  88.1 &                 404.4 \\\\\\\\\\n2016-05-01 &                2286.0 &                  11.7 &                 134.6 &                 159.0 &                 517.0 &                  47.9 &                 406.2 &                 305.0 &                  88.1 &                 404.4 \\\\\\\\\\n2016-06-01 &                2299.8 &                  11.9 &                 137.5 &                 160.2 &                 518.7 &                  48.0 &                 408.6 &                 304.3 &                  88.3 &                 400.3 \\\\\\\\\\n2016-07-01 &                2300.9 &                  11.5 &                 138.4 &                 159.5 &                 519.0 &                  47.1 &                 409.8 &                 307.0 &                  87.0 &                 403.6 \\\\\\\\\\n\\\\bottomrule\\n\\\\end{tabular}\\n'"
      ]
     },
     "execution_count": 87,
     "metadata": {},
     "output_type": "execute_result"
    }
   ],
   "source": [
    "AZemp = pd.read_csv('AZemp.txt')\n",
    "AZemp\n",
    "AZemp = pd.read_csv('AZemp.txt', sep = '\\t', index_col=[0], \n",
    "        parse_dates=True)\n",
    "AZemp.to_latex()"
   ]
  },
  {
   "cell_type": "markdown",
   "metadata": {
    "slideshow": {
     "slide_type": "slide"
    }
   },
   "source": [
    "### Some attributes of a dataframe"
   ]
  },
  {
   "cell_type": "code",
   "execution_count": 77,
   "metadata": {
    "collapsed": false,
    "slideshow": {
     "slide_type": "fragment"
    }
   },
   "outputs": [
    {
     "data": {
      "text/plain": [
       "Index(['Tot_non_farm', 'Mining_logging', 'Construction', 'Manufacturing',\n",
       "       'Trade_trans_util', 'Information', 'Prof_bus_services', 'Leisure',\n",
       "       'Other_services', 'Government'],\n",
       "      dtype='object')"
      ]
     },
     "execution_count": 77,
     "metadata": {},
     "output_type": "execute_result"
    }
   ],
   "source": [
    "AZemp.columns\n",
    "AZemp.index\n",
    "# Rename some columns and change the attribute\n",
    "AZemp.columns = ['Tot_non_farm', 'Mining_logging', 'Construction', 'Manufacturing', \n",
    "                 'Trade_trans_util', 'Information', \n",
    "                 'Prof_bus_services', 'Leisure', 'Other_services', 'Government']\n",
    "AZemp.columns"
   ]
  },
  {
   "cell_type": "markdown",
   "metadata": {
    "slideshow": {
     "slide_type": "slide"
    }
   },
   "source": [
    "### Some methods to operated on the dataframe object"
   ]
  },
  {
   "cell_type": "code",
   "execution_count": 78,
   "metadata": {
    "collapsed": false,
    "slideshow": {
     "slide_type": "fragment"
    }
   },
   "outputs": [],
   "source": [
    "#a methods\n",
    "AZemp.max(axis = 0)\n",
    "AZemp.max?"
   ]
  },
  {
   "cell_type": "markdown",
   "metadata": {
    "slideshow": {
     "slide_type": "fragment"
    }
   },
   "source": [
    "Attributes and methods for dataframes here\n",
    "http://pandas.pydata.org/pandas-docs/stable/generated/pandas.DataFrame.html\n"
   ]
  },
  {
   "cell_type": "markdown",
   "metadata": {
    "slideshow": {
     "slide_type": "slide"
    }
   },
   "source": [
    "## Matplotlib"
   ]
  },
  {
   "cell_type": "code",
   "execution_count": 79,
   "metadata": {
    "collapsed": true,
    "slideshow": {
     "slide_type": "fragment"
    }
   },
   "outputs": [],
   "source": [
    "#%matplotlib inline will allow us to see plots in the notebook\n",
    "%matplotlib inline\n",
    "import matplotlib.pyplot as plt"
   ]
  },
  {
   "cell_type": "markdown",
   "metadata": {
    "slideshow": {
     "slide_type": "slide"
    }
   },
   "source": [
    "### Matplotlib figure\n",
    "- Figures are the top level object where Axes objects live\n",
    "- Axes objects have the plotting methods and plot elements"
   ]
  },
  {
   "cell_type": "code",
   "execution_count": 82,
   "metadata": {
    "collapsed": false,
    "slideshow": {
     "slide_type": "slide"
    }
   },
   "outputs": [
    {
     "data": {
      "image/png": "[encoded data removed]",
      "text/plain": [
       "<matplotlib.figure.Figure at 0x116ea7f98>"
      ]
     },
     "metadata": {},
     "output_type": "display_data"
    }
   ],
   "source": [
    "fig, ax = plt.subplots(1, figsize=(12,6))"
   ]
  },
  {
   "cell_type": "code",
   "execution_count": 83,
   "metadata": {
    "collapsed": false,
    "slideshow": {
     "slide_type": "slide"
    }
   },
   "outputs": [
    {
     "data": {
      "image/png": "[encoded data removed]",
      "text/plain": [
       "<matplotlib.figure.Figure at 0x116ed1ba8>"
      ]
     },
     "metadata": {},
     "output_type": "display_data"
    }
   ],
   "source": [
    "#Many axes in one figure \n",
    "fig, axes = plt.subplots(3, 2, figsize=(12,6))"
   ]
  },
  {
   "cell_type": "code",
   "execution_count": 29,
   "metadata": {
    "collapsed": false,
    "slideshow": {
     "slide_type": "slide"
    }
   },
   "outputs": [
    {
     "data": {
      "image/png": "[encoded data removed]",
      "text/plain": [
       "<matplotlib.figure.Figure at 0x115755828>"
      ]
     },
     "metadata": {},
     "output_type": "display_data"
    }
   ],
   "source": [
    "#Many axes with names and something plotted\n",
    "fig, ((ax_ltop, ax_rtop), (ax_lmid, ax_rmid), (ax_lbottom, ax_rbottom)) = plt.subplots(3, 2, figsize=(12,6))\n",
    "ax_rtop.plot(np.random.randn(200));"
   ]
  },
  {
   "cell_type": "markdown",
   "metadata": {
    "slideshow": {
     "slide_type": "slide"
    }
   },
   "source": [
    "### More about matplotlib\n",
    "http://matplotlib.org/\n"
   ]
  },
  {
   "cell_type": "markdown",
   "metadata": {
    "slideshow": {
     "slide_type": "slide"
    }
   },
   "source": [
    "# Useful modules I know less about\n",
    "- quantecon\n",
    "- scipy\n",
    "- statsmodels\n",
    "- scikitlearn"
   ]
  },
  {
   "cell_type": "markdown",
   "metadata": {
    "slideshow": {
     "slide_type": "slide"
    }
   },
   "source": [
    "## Quantecon\n",
    "- https://quantecon.org/"
   ]
  },
  {
   "cell_type": "code",
   "execution_count": 86,
   "metadata": {
    "collapsed": false,
    "slideshow": {
     "slide_type": "fragment"
    }
   },
   "outputs": [
    {
     "ename": "ImportError",
     "evalue": "No module named 'quantecon'",
     "output_type": "error",
     "traceback": [
      "\u001b[0;31m---------------------------------------------------------------------------\u001b[0m",
      "\u001b[0;31mImportError\u001b[0m                               Traceback (most recent call last)",
      "\u001b[0;32m<ipython-input-86-e71122392278>\u001b[0m in \u001b[0;36m<module>\u001b[0;34m()\u001b[0m\n\u001b[0;32m----> 1\u001b[0;31m \u001b[0;32mimport\u001b[0m \u001b[0mquantecon\u001b[0m \u001b[0;32mas\u001b[0m \u001b[0mqe\u001b[0m\u001b[0;34m\u001b[0m\u001b[0m\n\u001b[0m",
      "\u001b[0;31mImportError\u001b[0m: No module named 'quantecon'"
     ]
    }
   ],
   "source": [
    "import quantecon as qe"
   ]
  },
  {
   "cell_type": "markdown",
   "metadata": {
    "slideshow": {
     "slide_type": "slide"
    }
   },
   "source": [
    "## Scipy\n",
    "-  https://docs.scipy.org/doc/scipy/reference/\n",
    "- optimization, interpolation, ... \n"
   ]
  },
  {
   "cell_type": "markdown",
   "metadata": {
    "slideshow": {
     "slide_type": "slide"
    }
   },
   "source": [
    "## Statsmodels \n",
    " - http://statsmodels.sourceforge.net/\n",
    " - Regression fun"
   ]
  },
  {
   "cell_type": "markdown",
   "metadata": {
    "slideshow": {
     "slide_type": "slide"
    }
   },
   "source": [
    "## Scikit-learn\n",
    "- http://scikit-learn.org/stable/\n",
    "- \"Machine learning\" tools "
   ]
  },
  {
   "cell_type": "markdown",
   "metadata": {
    "slideshow": {
     "slide_type": "slide"
    }
   },
   "source": [
    "### Warning\n",
    "- There is often more than one way to do the same thing\n",
    "- Check which module the docs are referring to!!"
   ]
  },
  {
   "cell_type": "markdown",
   "metadata": {
    "slideshow": {
     "slide_type": "slide"
    }
   },
   "source": [
    "## Ideas for the python group\n",
    "- Short presentations highlighting a module or a problem: \"lighting talks\"\n",
    "    - highlight the code, not the research \n",
    "- Set up a repository to share tutorial code and notebooks\n"
   ]
  },
  {
   "cell_type": "markdown",
   "metadata": {
    "slideshow": {
     "slide_type": "slide"
    }
   },
   "source": [
    "## parting comic\n",
    "<img src='images/python_comic.png'>"
   ]
  },
  {
   "cell_type": "markdown",
   "metadata": {
    "slideshow": {
     "slide_type": "slide"
    }
   },
   "source": [
    "# Python standard library\n",
    "-https://docs.python.org/3/library/index.html\n",
    "\n",
    "<img src='images/python_standard_functions.png'>"
   ]
  }
 ],
 "metadata": {
  "anaconda-cloud": {},
  "celltoolbar": "Slideshow",
  "kernelspec": {
   "display_name": "Python [Root]",
   "language": "python",
   "name": "Python [Root]"
  },
  "language_info": {
   "codemirror_mode": {
    "name": "ipython",
    "version": 3
   },
   "file_extension": ".py",
   "mimetype": "text/x-python",
   "name": "python",
   "nbconvert_exporter": "python",
   "pygments_lexer": "ipython3",
   "version": "3.5.1"
  },
  "nbpresent": {
   "slides": {
    "19612f56-55a5-4e8c-9132-b8609bb33dd3": {
     "id": "19612f56-55a5-4e8c-9132-b8609bb33dd3",
     "prev": null,
     "regions": {
      "64d6675b-6106-4ef2-b698-d57da8aa2cae": {
       "attrs": {
        "height": 0.8,
        "width": 0.45,
        "x": 0.05,
        "y": 0.1
       },
       "id": "64d6675b-6106-4ef2-b698-d57da8aa2cae"
      },
      "d5f41e62-8605-4cc3-bd3f-da9c44025e4b": {
       "attrs": {
        "height": 0.8,
        "width": 0.45,
        "x": 0.5,
        "y": 0.1
       },
       "id": "d5f41e62-8605-4cc3-bd3f-da9c44025e4b"
      }
     }
    }
   },
   "themes": {}
  }
 },
 "nbformat": 4,
 "nbformat_minor": 0
}
