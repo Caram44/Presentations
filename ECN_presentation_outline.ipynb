{
 "cells": [
  {
   "cell_type": "markdown",
   "metadata": {
    "collapsed": true,
    "nbpresent": {
     "id": "5e2b6a92-c8ad-4b14-b5a0-98043a744573"
    },
    "slideshow": {
     "slide_type": "slide"
    }
   },
   "source": [
    "# Presentation outline\n",
    "- Installing Python and running python\n",
    "- A very brief introduction \n",
    "- Modules I am familiar with: numpy, pandas, matplotlib\n",
    "- Useful modules I would like to learn about: Scipy, quantecon, \n",
    "- A plan for the user group"
   ]
  },
  {
   "cell_type": "markdown",
   "metadata": {
    "slideshow": {
     "slide_type": "slide"
    }
   },
   "source": [
    "# Why python?\n",
    "\n",
    "<img src='images/punch_cards.png'>\n"
   ]
  },
  {
   "cell_type": "markdown",
   "metadata": {
    "slideshow": {
     "slide_type": "slide"
    }
   },
   "source": [
    "# Installing Python and running \n",
    "- anaconda https://www.continuum.io/downloads\n",
    "- jupyter notebook \n",
    "- Spyder https://pythonhosted.org/spyder/\n",
    "- ipython \n",
    "- text editor: https://atom.io/, others \n",
    "\n"
   ]
  },
  {
   "cell_type": "markdown",
   "metadata": {
    "collapsed": false,
    "slideshow": {
     "slide_type": "slide"
    }
   },
   "source": [
    "# What is python?\n",
    "- object oriented programing \n",
    "- higher level language (indpendent of type of computer)\n",
    "- Python is interpreted, not compiled \n",
    "- Open source \n",
    "- Modules \n"
   ]
  },
  {
   "cell_type": "markdown",
   "metadata": {
    "slideshow": {
     "slide_type": "slide"
    }
   },
   "source": [
    "# Object oriented \n",
    "- objects in python contain data - attributes \n",
    "    - an object usually has many attributes\n",
    "- Methods operate on the data in an object \n",
    "- Create objects and methods with Classes \n",
    "    \n"
   ]
  },
  {
   "cell_type": "markdown",
   "metadata": {
    "slideshow": {
     "slide_type": "slide"
    }
   },
   "source": [
    "# Resources\n",
    "- https://www.kevinsheppard.com/Python_for_Econometrics\n",
    "- https://lectures.quantecon.org/py/index.html\n"
   ]
  },
  {
   "cell_type": "markdown",
   "metadata": {
    "slideshow": {
     "slide_type": "slide"
    }
   },
   "source": [
    "# Python data types \n",
    "- numeric: float, int, complex \n",
    "- text: string \n",
    "- sequences: list, tuples, range \n",
    "- mappings: dictionaries \n",
    "- sets \n"
   ]
  },
  {
   "cell_type": "markdown",
   "metadata": {
    "slideshow": {
     "slide_type": "slide"
    }
   },
   "source": [
    "## Examples text"
   ]
  },
  {
   "cell_type": "code",
   "execution_count": 1,
   "metadata": {
    "collapsed": false,
    "slideshow": {
     "slide_type": "fragment"
    }
   },
   "outputs": [
    {
     "data": {
      "text/plain": [
       "'hello Cara'"
      ]
     },
     "execution_count": 1,
     "metadata": {},
     "output_type": "execute_result"
    }
   ],
   "source": [
    "greet = 'hello'\n",
    "name = ' Cara'\n",
    "greet + name \n",
    "#greet[0]\n",
    "#greet.count('l')"
   ]
  },
  {
   "cell_type": "markdown",
   "metadata": {
    "slideshow": {
     "slide_type": "slide"
    }
   },
   "source": [
    "## Examples numeric"
   ]
  },
  {
   "cell_type": "code",
   "execution_count": 2,
   "metadata": {
    "collapsed": false,
    "slideshow": {
     "slide_type": "fragment"
    }
   },
   "outputs": [
    {
     "name": "stdout",
     "output_type": "stream",
     "text": [
      "<class 'int'>\n",
      "<class 'float'>\n"
     ]
    }
   ],
   "source": [
    "x = 4\n",
    "z = 2\n",
    "y = 4.\n",
    "q = 2.\n",
    "print(type(x))\n",
    "print(type(y))\n",
    "# some arithmatic "
   ]
  },
  {
   "cell_type": "markdown",
   "metadata": {
    "slideshow": {
     "slide_type": "slide"
    }
   },
   "source": [
    "## Examples - lists and tuples and sets"
   ]
  },
  {
   "cell_type": "code",
   "execution_count": 3,
   "metadata": {
    "collapsed": false,
    "slideshow": {
     "slide_type": "fragment"
    }
   },
   "outputs": [],
   "source": [
    "list_1 = [1, 2, 3, 4]\n",
    "list_2 = ['a', 'b', 'c']\n",
    "#list_1[0] = 7\n",
    "#list_1.append(5)\n",
    "#list_1\n",
    "#list_1 + list_2\n",
    "#list_3 = [list_1, list_2]\n",
    "#list_3\n",
    "#list_2.count('b')\n",
    "#tup = (1, 2, 3)\n",
    "#tup[2]\n",
    "#tup[2] = 4"
   ]
  },
  {
   "cell_type": "markdown",
   "metadata": {
    "slideshow": {
     "slide_type": "slide"
    }
   },
   "source": [
    "### Warning "
   ]
  },
  {
   "cell_type": "code",
   "execution_count": 4,
   "metadata": {
    "collapsed": false,
    "slideshow": {
     "slide_type": "fragment"
    }
   },
   "outputs": [
    {
     "data": {
      "text/plain": [
       "['suprise!', 2, 3, 4]"
      ]
     },
     "execution_count": 4,
     "metadata": {},
     "output_type": "execute_result"
    }
   ],
   "source": [
    "#Be careful if you want to copy\n",
    "list_3 = list_1\n",
    "list_3[0] = 'suprise!'\n",
    "list_1\n"
   ]
  },
  {
   "cell_type": "markdown",
   "metadata": {
    "slideshow": {
     "slide_type": "slide"
    }
   },
   "source": [
    "## Dictionaries "
   ]
  },
  {
   "cell_type": "code",
   "execution_count": 5,
   "metadata": {
    "collapsed": false,
    "slideshow": {
     "slide_type": "fragment"
    }
   },
   "outputs": [
    {
     "data": {
      "text/plain": [
       "<function dict.keys>"
      ]
     },
     "execution_count": 5,
     "metadata": {},
     "output_type": "execute_result"
    }
   ],
   "source": [
    "countries = {'France':[1981, 1992], 'Germany': [1956, 1972, 1981]}\n",
    "#print(countries)\n",
    "#print(countries.keys())\n",
    "#countries.values()\n",
    "#type(countries)\n",
    "type(countries)\n",
    "#countries['Angola'] = [1990, 2000]\n",
    "countries.keys"
   ]
  },
  {
   "cell_type": "markdown",
   "metadata": {
    "slideshow": {
     "slide_type": "slide"
    }
   },
   "source": [
    "# Loops and if statements "
   ]
  },
  {
   "cell_type": "code",
   "execution_count": 6,
   "metadata": {
    "collapsed": false,
    "slideshow": {
     "slide_type": "fragment"
    }
   },
   "outputs": [
    {
     "name": "stdout",
     "output_type": "stream",
     "text": [
      "France\n",
      "Germany\n"
     ]
    }
   ],
   "source": [
    "#loop over list\n",
    "for country in countries:\n",
    "    print(country)\n",
    "\n"
   ]
  },
  {
   "cell_type": "code",
   "execution_count": 7,
   "metadata": {
    "collapsed": false,
    "slideshow": {
     "slide_type": "fragment"
    }
   },
   "outputs": [
    {
     "name": "stdout",
     "output_type": "stream",
     "text": [
      "yes\n"
     ]
    }
   ],
   "source": [
    "\n",
    "# if statements \n",
    "if 'France' in countries:\n",
    "    print('yes')\n",
    "else:\n",
    "    print('no')"
   ]
  },
  {
   "cell_type": "code",
   "execution_count": 8,
   "metadata": {
    "collapsed": true,
    "slideshow": {
     "slide_type": "fragment"
    }
   },
   "outputs": [],
   "source": [
    "#See CH 13 Shepard "
   ]
  },
  {
   "cell_type": "markdown",
   "metadata": {
    "slideshow": {
     "slide_type": "slide"
    }
   },
   "source": [
    "# Functions"
   ]
  },
  {
   "cell_type": "code",
   "execution_count": 9,
   "metadata": {
    "collapsed": true,
    "slideshow": {
     "slide_type": "fragment"
    }
   },
   "outputs": [],
   "source": [
    "# u(x,y) = a*log(x) + log(y)\n",
    "#max u given px, py and w, a\n",
    "\n",
    "def umax(px, py, w, a):\n",
    "    x = a*w/(px*(1+a))\n",
    "    y = w - px*x\n",
    "    return [x,y]"
   ]
  },
  {
   "cell_type": "code",
   "execution_count": 10,
   "metadata": {
    "collapsed": false,
    "slideshow": {
     "slide_type": "fragment"
    }
   },
   "outputs": [
    {
     "data": {
      "text/plain": [
       "[3.3333333333333335, 6.666666666666666]"
      ]
     },
     "execution_count": 10,
     "metadata": {},
     "output_type": "execute_result"
    }
   ],
   "source": [
    "umax(1, 1, 10, .5)\n"
   ]
  },
  {
   "cell_type": "markdown",
   "metadata": {
    "slideshow": {
     "slide_type": "slide"
    }
   },
   "source": [
    "# Classes "
   ]
  },
  {
   "cell_type": "code",
   "execution_count": 11,
   "metadata": {
    "collapsed": true,
    "slideshow": {
     "slide_type": "fragment"
    }
   },
   "outputs": [],
   "source": [
    "class Country:\n",
    "    def __init__(self, name, gdp, compensation):\n",
    "        self.name = name\n",
    "        self.gdp = gdp\n",
    "        self.compensation = compensation\n",
    "    \n",
    "    #Here is a method \n",
    "    def labor_share(self):\n",
    "        return self.compensation/self.gdp"
   ]
  },
  {
   "cell_type": "code",
   "execution_count": 12,
   "metadata": {
    "collapsed": false,
    "slideshow": {
     "slide_type": "fragment"
    }
   },
   "outputs": [],
   "source": [
    "france = Country('France', 1000, 600)"
   ]
  },
  {
   "cell_type": "code",
   "execution_count": 13,
   "metadata": {
    "collapsed": false,
    "slideshow": {
     "slide_type": "fragment"
    }
   },
   "outputs": [
    {
     "data": {
      "text/plain": [
       "1000"
      ]
     },
     "execution_count": 13,
     "metadata": {},
     "output_type": "execute_result"
    }
   ],
   "source": [
    "#gdp is an attribute of the object created by Class Country\n",
    "france.gdp"
   ]
  },
  {
   "cell_type": "markdown",
   "metadata": {
    "slideshow": {
     "slide_type": "slide"
    }
   },
   "source": [
    "### Example of a method"
   ]
  },
  {
   "cell_type": "code",
   "execution_count": 14,
   "metadata": {
    "collapsed": false,
    "slideshow": {
     "slide_type": "fragment"
    }
   },
   "outputs": [
    {
     "data": {
      "text/plain": [
       "0.6"
      ]
     },
     "execution_count": 14,
     "metadata": {},
     "output_type": "execute_result"
    }
   ],
   "source": [
    "#labor share is a method that operates on objects created by Class Country\n",
    "france.labor_share()"
   ]
  },
  {
   "cell_type": "code",
   "execution_count": 15,
   "metadata": {
    "collapsed": false,
    "slideshow": {
     "slide_type": "fragment"
    }
   },
   "outputs": [
    {
     "data": {
      "text/plain": [
       "0.5454545454545454"
      ]
     },
     "execution_count": 15,
     "metadata": {},
     "output_type": "execute_result"
    }
   ],
   "source": [
    "#Change an attribute\n",
    "france.gdp = 1100\n",
    "#Method acts on new attribute\n",
    "france.labor_share()"
   ]
  },
  {
   "cell_type": "markdown",
   "metadata": {
    "slideshow": {
     "slide_type": "slide"
    }
   },
   "source": [
    "# Recap\n",
    "- Python data types and structures \n",
    "- loops and if statements \n",
    "- Functions \n",
    "- Classes \n",
    "- fun part is next"
   ]
  },
  {
   "cell_type": "markdown",
   "metadata": {
    "collapsed": true,
    "slideshow": {
     "slide_type": "slide"
    }
   },
   "source": [
    "# Modules\n",
    "- computations using numpy \n",
    "- clean, manupulate and visualize data using pandas \n",
    "- statistical tools using statsmodels\n",
    "- create plots of all kinds using matplotlib \n",
    "- and more more"
   ]
  },
  {
   "cell_type": "markdown",
   "metadata": {
    "slideshow": {
     "slide_type": "slide"
    }
   },
   "source": [
    "# Numpy\n",
    "http://www.numpy.org/\n",
    "https://docs.scipy.org/doc/numpy-dev/user/numpy-for-matlab-users.html"
   ]
  },
  {
   "cell_type": "code",
   "execution_count": 16,
   "metadata": {
    "collapsed": true,
    "slideshow": {
     "slide_type": "fragment"
    }
   },
   "outputs": [],
   "source": [
    "import numpy as np\n",
    "# Do NOT do this!!!\n",
    "#from numpy import * "
   ]
  },
  {
   "cell_type": "code",
   "execution_count": 17,
   "metadata": {
    "collapsed": false,
    "slideshow": {
     "slide_type": "fragment"
    }
   },
   "outputs": [
    {
     "data": {
      "text/plain": [
       "4.0"
      ]
     },
     "execution_count": 17,
     "metadata": {},
     "output_type": "execute_result"
    }
   ],
   "source": [
    "n = np.array([[ 1., 0., 0.],\n",
    " [ 0., 1., 2.],[4., 5, 6.]])\n",
    "n[1]\n",
    "n[0:2,]\n",
    "n[-1,0]"
   ]
  },
  {
   "cell_type": "markdown",
   "metadata": {
    "slideshow": {
     "slide_type": "slide"
    }
   },
   "source": [
    "### Attributes of n"
   ]
  },
  {
   "cell_type": "code",
   "execution_count": 18,
   "metadata": {
    "collapsed": false,
    "slideshow": {
     "slide_type": "fragment"
    }
   },
   "outputs": [
    {
     "data": {
      "text/plain": [
       "array([[ 1.,  0.,  0.],\n",
       "       [ 0.,  1.,  2.],\n",
       "       [ 4.,  5.,  6.]])"
      ]
     },
     "execution_count": 18,
     "metadata": {},
     "output_type": "execute_result"
    }
   ],
   "source": [
    "#Some attributes of n\n",
    "n.shape\n",
    "n.size\n",
    "n.real"
   ]
  },
  {
   "cell_type": "markdown",
   "metadata": {
    "slideshow": {
     "slide_type": "slide"
    }
   },
   "source": [
    "### Some methods that operate on n"
   ]
  },
  {
   "cell_type": "code",
   "execution_count": 19,
   "metadata": {
    "collapsed": false,
    "slideshow": {
     "slide_type": "fragment"
    }
   },
   "outputs": [
    {
     "data": {
      "text/plain": [
       "6.0"
      ]
     },
     "execution_count": 19,
     "metadata": {},
     "output_type": "execute_result"
    }
   ],
   "source": [
    "#Some methods \n",
    "#max of all elements \n",
    "n.max()\n",
    "#max over columns \n",
    "#n.max(0,)\n",
    "#max over rows\n",
    "#n.max(1,)\n",
    "# "
   ]
  },
  {
   "cell_type": "markdown",
   "metadata": {
    "slideshow": {
     "slide_type": "slide"
    }
   },
   "source": [
    "### An advantage of numpy"
   ]
  },
  {
   "cell_type": "code",
   "execution_count": 20,
   "metadata": {
    "collapsed": false,
    "slideshow": {
     "slide_type": "fragment"
    }
   },
   "outputs": [
    {
     "data": {
      "text/plain": [
       "array([[[ 0,  1,  2,  3],\n",
       "        [ 4,  5,  6,  7],\n",
       "        [ 8,  9, 10, 11]],\n",
       "\n",
       "       [[12, 13, 14, 15],\n",
       "        [16, 17, 18, 19],\n",
       "        [20, 21, 22, 23]]])"
      ]
     },
     "execution_count": 20,
     "metadata": {},
     "output_type": "execute_result"
    }
   ],
   "source": [
    "# A 3-D array\n",
    "c = np.arange(24)\n",
    "#reshape is a method that operates on the object \"c\"\n",
    "c.reshape(2,3,4) "
   ]
  },
  {
   "cell_type": "markdown",
   "metadata": {
    "slideshow": {
     "slide_type": "slide"
    }
   },
   "source": [
    "## We can do lots of things\n",
    "https://docs.scipy.org/doc/numpy-dev/reference/routines.html"
   ]
  },
  {
   "cell_type": "code",
   "execution_count": 21,
   "metadata": {
    "collapsed": true,
    "slideshow": {
     "slide_type": "fragment"
    }
   },
   "outputs": [],
   "source": [
    "#what should we try?"
   ]
  },
  {
   "cell_type": "markdown",
   "metadata": {
    "slideshow": {
     "slide_type": "slide"
    }
   },
   "source": [
    "# Pandas module "
   ]
  },
  {
   "cell_type": "code",
   "execution_count": 22,
   "metadata": {
    "collapsed": true,
    "nbpresent": {
     "id": "29afb21f-bf0d-4687-828f-82e71e57eb10"
    },
    "slideshow": {
     "slide_type": "fragment"
    }
   },
   "outputs": [],
   "source": [
    "import pandas as pd"
   ]
  },
  {
   "cell_type": "markdown",
   "metadata": {
    "slideshow": {
     "slide_type": "fragment"
    }
   },
   "source": [
    "### Create a dataframe object "
   ]
  },
  {
   "cell_type": "code",
   "execution_count": 23,
   "metadata": {
    "collapsed": false,
    "slideshow": {
     "slide_type": "fragment"
    }
   },
   "outputs": [
    {
     "data": {
      "text/html": [
       "<div>\n",
       "<table border=\"1\" class=\"dataframe\">\n",
       "  <thead>\n",
       "    <tr style=\"text-align: right;\">\n",
       "      <th></th>\n",
       "      <th>SMS04000000500000001</th>\n",
       "      <th>SMS04000001000000001</th>\n",
       "      <th>SMS04000002000000001</th>\n",
       "      <th>SMS04000003000000001</th>\n",
       "      <th>SMS04000004000000001</th>\n",
       "      <th>SMS04000005000000001</th>\n",
       "      <th>SMS04000006000000001</th>\n",
       "      <th>SMS04000007000000001</th>\n",
       "      <th>SMS04000008000000001</th>\n",
       "      <th>SMS04000009000000001</th>\n",
       "    </tr>\n",
       "    <tr>\n",
       "      <th>Date</th>\n",
       "      <th></th>\n",
       "      <th></th>\n",
       "      <th></th>\n",
       "      <th></th>\n",
       "      <th></th>\n",
       "      <th></th>\n",
       "      <th></th>\n",
       "      <th></th>\n",
       "      <th></th>\n",
       "      <th></th>\n",
       "    </tr>\n",
       "  </thead>\n",
       "  <tbody>\n",
       "    <tr>\n",
       "      <th>1990-01-01</th>\n",
       "      <td>NaN</td>\n",
       "      <td>NaN</td>\n",
       "      <td>85.4</td>\n",
       "      <td>177.5</td>\n",
       "      <td>310.9</td>\n",
       "      <td>32.6</td>\n",
       "      <td>142.2</td>\n",
       "      <td>158.9</td>\n",
       "      <td>55.1</td>\n",
       "      <td>266.1</td>\n",
       "    </tr>\n",
       "    <tr>\n",
       "      <th>1990-01-01</th>\n",
       "      <td>1207.7</td>\n",
       "      <td>12.4</td>\n",
       "      <td>85.4</td>\n",
       "      <td>177.5</td>\n",
       "      <td>310.9</td>\n",
       "      <td>32.6</td>\n",
       "      <td>142.2</td>\n",
       "      <td>158.9</td>\n",
       "      <td>55.1</td>\n",
       "      <td>266.1</td>\n",
       "    </tr>\n",
       "    <tr>\n",
       "      <th>1990-02-01</th>\n",
       "      <td>1208.3</td>\n",
       "      <td>12.4</td>\n",
       "      <td>85.4</td>\n",
       "      <td>177.6</td>\n",
       "      <td>311.4</td>\n",
       "      <td>32.5</td>\n",
       "      <td>141.2</td>\n",
       "      <td>159.5</td>\n",
       "      <td>55.3</td>\n",
       "      <td>267.6</td>\n",
       "    </tr>\n",
       "    <tr>\n",
       "      <th>2005-12-01</th>\n",
       "      <td>2169.2</td>\n",
       "      <td>9.0</td>\n",
       "      <td>233.5</td>\n",
       "      <td>185.1</td>\n",
       "      <td>500.7</td>\n",
       "      <td>45.6</td>\n",
       "      <td>376.7</td>\n",
       "      <td>259.6</td>\n",
       "      <td>93.2</td>\n",
       "      <td>403.4</td>\n",
       "    </tr>\n",
       "    <tr>\n",
       "      <th>1990-03-01</th>\n",
       "      <td>1210.4</td>\n",
       "      <td>12.5</td>\n",
       "      <td>85.3</td>\n",
       "      <td>177.3</td>\n",
       "      <td>312.4</td>\n",
       "      <td>32.2</td>\n",
       "      <td>142.6</td>\n",
       "      <td>159.1</td>\n",
       "      <td>55.3</td>\n",
       "      <td>268.3</td>\n",
       "    </tr>\n",
       "    <tr>\n",
       "      <th>1990-04-01</th>\n",
       "      <td>1213.7</td>\n",
       "      <td>12.4</td>\n",
       "      <td>84.8</td>\n",
       "      <td>176.5</td>\n",
       "      <td>311.4</td>\n",
       "      <td>33.6</td>\n",
       "      <td>142.5</td>\n",
       "      <td>159.6</td>\n",
       "      <td>58.1</td>\n",
       "      <td>271.2</td>\n",
       "    </tr>\n",
       "    <tr>\n",
       "      <th>1990-05-01</th>\n",
       "      <td>1211.5</td>\n",
       "      <td>12.4</td>\n",
       "      <td>84.0</td>\n",
       "      <td>176.7</td>\n",
       "      <td>311.4</td>\n",
       "      <td>33.4</td>\n",
       "      <td>141.4</td>\n",
       "      <td>159.6</td>\n",
       "      <td>58.0</td>\n",
       "      <td>276.5</td>\n",
       "    </tr>\n",
       "    <tr>\n",
       "      <th>1990-05-01</th>\n",
       "      <td>1211.5</td>\n",
       "      <td>12.4</td>\n",
       "      <td>84.0</td>\n",
       "      <td>176.7</td>\n",
       "      <td>311.4</td>\n",
       "      <td>33.4</td>\n",
       "      <td>141.4</td>\n",
       "      <td>159.6</td>\n",
       "      <td>58.0</td>\n",
       "      <td>276.5</td>\n",
       "    </tr>\n",
       "    <tr>\n",
       "      <th>1990-05-01</th>\n",
       "      <td>1211.5</td>\n",
       "      <td>12.4</td>\n",
       "      <td>84.0</td>\n",
       "      <td>176.7</td>\n",
       "      <td>311.4</td>\n",
       "      <td>33.4</td>\n",
       "      <td>141.4</td>\n",
       "      <td>159.6</td>\n",
       "      <td>58.0</td>\n",
       "      <td>276.5</td>\n",
       "    </tr>\n",
       "    <tr>\n",
       "      <th>1990-05-01</th>\n",
       "      <td>1211.5</td>\n",
       "      <td>12.4</td>\n",
       "      <td>84.0</td>\n",
       "      <td>176.7</td>\n",
       "      <td>311.4</td>\n",
       "      <td>33.4</td>\n",
       "      <td>141.4</td>\n",
       "      <td>159.6</td>\n",
       "      <td>58.0</td>\n",
       "      <td>276.5</td>\n",
       "    </tr>\n",
       "    <tr>\n",
       "      <th>1990-05-01</th>\n",
       "      <td>1211.5</td>\n",
       "      <td>12.4</td>\n",
       "      <td>84.0</td>\n",
       "      <td>176.7</td>\n",
       "      <td>311.4</td>\n",
       "      <td>33.4</td>\n",
       "      <td>141.4</td>\n",
       "      <td>159.6</td>\n",
       "      <td>58.0</td>\n",
       "      <td>276.5</td>\n",
       "    </tr>\n",
       "    <tr>\n",
       "      <th>1990-05-01</th>\n",
       "      <td>1211.5</td>\n",
       "      <td>12.4</td>\n",
       "      <td>84.0</td>\n",
       "      <td>176.7</td>\n",
       "      <td>311.4</td>\n",
       "      <td>33.4</td>\n",
       "      <td>141.4</td>\n",
       "      <td>159.6</td>\n",
       "      <td>58.0</td>\n",
       "      <td>276.5</td>\n",
       "    </tr>\n",
       "    <tr>\n",
       "      <th>1990-05-01</th>\n",
       "      <td>1211.5</td>\n",
       "      <td>12.4</td>\n",
       "      <td>84.0</td>\n",
       "      <td>176.7</td>\n",
       "      <td>311.4</td>\n",
       "      <td>33.4</td>\n",
       "      <td>141.4</td>\n",
       "      <td>159.6</td>\n",
       "      <td>58.0</td>\n",
       "      <td>276.5</td>\n",
       "    </tr>\n",
       "    <tr>\n",
       "      <th>1990-05-01</th>\n",
       "      <td>1211.5</td>\n",
       "      <td>12.4</td>\n",
       "      <td>84.0</td>\n",
       "      <td>176.7</td>\n",
       "      <td>311.4</td>\n",
       "      <td>33.4</td>\n",
       "      <td>141.4</td>\n",
       "      <td>159.6</td>\n",
       "      <td>58.0</td>\n",
       "      <td>276.5</td>\n",
       "    </tr>\n",
       "    <tr>\n",
       "      <th>1990-05-01</th>\n",
       "      <td>1211.5</td>\n",
       "      <td>12.4</td>\n",
       "      <td>84.0</td>\n",
       "      <td>176.7</td>\n",
       "      <td>311.4</td>\n",
       "      <td>33.4</td>\n",
       "      <td>141.4</td>\n",
       "      <td>159.6</td>\n",
       "      <td>58.0</td>\n",
       "      <td>276.5</td>\n",
       "    </tr>\n",
       "    <tr>\n",
       "      <th>1990-05-01</th>\n",
       "      <td>1211.5</td>\n",
       "      <td>12.4</td>\n",
       "      <td>84.0</td>\n",
       "      <td>176.7</td>\n",
       "      <td>311.4</td>\n",
       "      <td>33.4</td>\n",
       "      <td>141.4</td>\n",
       "      <td>159.6</td>\n",
       "      <td>58.0</td>\n",
       "      <td>276.5</td>\n",
       "    </tr>\n",
       "    <tr>\n",
       "      <th>1990-05-01</th>\n",
       "      <td>1211.5</td>\n",
       "      <td>12.4</td>\n",
       "      <td>84.0</td>\n",
       "      <td>176.7</td>\n",
       "      <td>311.4</td>\n",
       "      <td>33.4</td>\n",
       "      <td>141.4</td>\n",
       "      <td>159.6</td>\n",
       "      <td>58.0</td>\n",
       "      <td>276.5</td>\n",
       "    </tr>\n",
       "    <tr>\n",
       "      <th>1990-05-01</th>\n",
       "      <td>1211.5</td>\n",
       "      <td>12.4</td>\n",
       "      <td>84.0</td>\n",
       "      <td>176.7</td>\n",
       "      <td>311.4</td>\n",
       "      <td>33.4</td>\n",
       "      <td>141.4</td>\n",
       "      <td>159.6</td>\n",
       "      <td>58.0</td>\n",
       "      <td>276.5</td>\n",
       "    </tr>\n",
       "    <tr>\n",
       "      <th>1990-05-01</th>\n",
       "      <td>1211.5</td>\n",
       "      <td>12.4</td>\n",
       "      <td>84.0</td>\n",
       "      <td>176.7</td>\n",
       "      <td>311.4</td>\n",
       "      <td>33.4</td>\n",
       "      <td>141.4</td>\n",
       "      <td>159.6</td>\n",
       "      <td>58.0</td>\n",
       "      <td>276.5</td>\n",
       "    </tr>\n",
       "    <tr>\n",
       "      <th>1990-05-01</th>\n",
       "      <td>1211.5</td>\n",
       "      <td>12.4</td>\n",
       "      <td>84.0</td>\n",
       "      <td>176.7</td>\n",
       "      <td>311.4</td>\n",
       "      <td>33.4</td>\n",
       "      <td>141.4</td>\n",
       "      <td>159.6</td>\n",
       "      <td>58.0</td>\n",
       "      <td>276.5</td>\n",
       "    </tr>\n",
       "    <tr>\n",
       "      <th>1990-05-01</th>\n",
       "      <td>1211.5</td>\n",
       "      <td>12.4</td>\n",
       "      <td>84.0</td>\n",
       "      <td>176.7</td>\n",
       "      <td>311.4</td>\n",
       "      <td>33.4</td>\n",
       "      <td>141.4</td>\n",
       "      <td>159.6</td>\n",
       "      <td>58.0</td>\n",
       "      <td>276.5</td>\n",
       "    </tr>\n",
       "    <tr>\n",
       "      <th>1990-06-01</th>\n",
       "      <td>1212.5</td>\n",
       "      <td>12.5</td>\n",
       "      <td>83.7</td>\n",
       "      <td>176.7</td>\n",
       "      <td>312.1</td>\n",
       "      <td>33.3</td>\n",
       "      <td>142.3</td>\n",
       "      <td>159.3</td>\n",
       "      <td>57.8</td>\n",
       "      <td>269.8</td>\n",
       "    </tr>\n",
       "    <tr>\n",
       "      <th>1990-07-01</th>\n",
       "      <td>1211.0</td>\n",
       "      <td>12.6</td>\n",
       "      <td>83.6</td>\n",
       "      <td>177.2</td>\n",
       "      <td>309.8</td>\n",
       "      <td>33.0</td>\n",
       "      <td>145.5</td>\n",
       "      <td>158.4</td>\n",
       "      <td>57.4</td>\n",
       "      <td>273.4</td>\n",
       "    </tr>\n",
       "    <tr>\n",
       "      <th>1990-08-01</th>\n",
       "      <td>1210.8</td>\n",
       "      <td>12.6</td>\n",
       "      <td>83.6</td>\n",
       "      <td>176.6</td>\n",
       "      <td>310.3</td>\n",
       "      <td>32.8</td>\n",
       "      <td>144.0</td>\n",
       "      <td>158.6</td>\n",
       "      <td>58.0</td>\n",
       "      <td>272.6</td>\n",
       "    </tr>\n",
       "    <tr>\n",
       "      <th>1990-09-01</th>\n",
       "      <td>1211.9</td>\n",
       "      <td>12.8</td>\n",
       "      <td>84.5</td>\n",
       "      <td>175.9</td>\n",
       "      <td>311.0</td>\n",
       "      <td>32.7</td>\n",
       "      <td>143.8</td>\n",
       "      <td>159.0</td>\n",
       "      <td>58.2</td>\n",
       "      <td>273.9</td>\n",
       "    </tr>\n",
       "    <tr>\n",
       "      <th>1990-10-01</th>\n",
       "      <td>1210.6</td>\n",
       "      <td>12.7</td>\n",
       "      <td>84.5</td>\n",
       "      <td>175.6</td>\n",
       "      <td>309.9</td>\n",
       "      <td>32.4</td>\n",
       "      <td>143.0</td>\n",
       "      <td>158.8</td>\n",
       "      <td>59.7</td>\n",
       "      <td>275.7</td>\n",
       "    </tr>\n",
       "    <tr>\n",
       "      <th>1990-10-01</th>\n",
       "      <td>1210.6</td>\n",
       "      <td>12.7</td>\n",
       "      <td>84.5</td>\n",
       "      <td>175.6</td>\n",
       "      <td>309.9</td>\n",
       "      <td>32.4</td>\n",
       "      <td>143.0</td>\n",
       "      <td>158.8</td>\n",
       "      <td>59.7</td>\n",
       "      <td>275.7</td>\n",
       "    </tr>\n",
       "    <tr>\n",
       "      <th>1990-10-01</th>\n",
       "      <td>1210.6</td>\n",
       "      <td>12.7</td>\n",
       "      <td>84.5</td>\n",
       "      <td>175.6</td>\n",
       "      <td>309.9</td>\n",
       "      <td>32.4</td>\n",
       "      <td>143.0</td>\n",
       "      <td>158.8</td>\n",
       "      <td>59.7</td>\n",
       "      <td>275.7</td>\n",
       "    </tr>\n",
       "    <tr>\n",
       "      <th>1990-10-01</th>\n",
       "      <td>1210.6</td>\n",
       "      <td>12.7</td>\n",
       "      <td>84.5</td>\n",
       "      <td>175.6</td>\n",
       "      <td>309.9</td>\n",
       "      <td>32.4</td>\n",
       "      <td>143.0</td>\n",
       "      <td>158.8</td>\n",
       "      <td>59.7</td>\n",
       "      <td>275.7</td>\n",
       "    </tr>\n",
       "    <tr>\n",
       "      <th>1990-10-01</th>\n",
       "      <td>1210.6</td>\n",
       "      <td>12.7</td>\n",
       "      <td>84.5</td>\n",
       "      <td>175.6</td>\n",
       "      <td>309.9</td>\n",
       "      <td>32.4</td>\n",
       "      <td>143.0</td>\n",
       "      <td>158.8</td>\n",
       "      <td>59.7</td>\n",
       "      <td>275.7</td>\n",
       "    </tr>\n",
       "    <tr>\n",
       "      <th>...</th>\n",
       "      <td>...</td>\n",
       "      <td>...</td>\n",
       "      <td>...</td>\n",
       "      <td>...</td>\n",
       "      <td>...</td>\n",
       "      <td>...</td>\n",
       "      <td>...</td>\n",
       "      <td>...</td>\n",
       "      <td>...</td>\n",
       "      <td>...</td>\n",
       "    </tr>\n",
       "    <tr>\n",
       "      <th>2016-01-01</th>\n",
       "      <td>2279.9</td>\n",
       "      <td>11.7</td>\n",
       "      <td>131.8</td>\n",
       "      <td>161.7</td>\n",
       "      <td>512.3</td>\n",
       "      <td>48.1</td>\n",
       "      <td>411.6</td>\n",
       "      <td>303.2</td>\n",
       "      <td>89.5</td>\n",
       "      <td>403.2</td>\n",
       "    </tr>\n",
       "    <tr>\n",
       "      <th>2016-02-01</th>\n",
       "      <td>2281.4</td>\n",
       "      <td>11.6</td>\n",
       "      <td>132.5</td>\n",
       "      <td>159.6</td>\n",
       "      <td>513.1</td>\n",
       "      <td>47.5</td>\n",
       "      <td>411.5</td>\n",
       "      <td>303.3</td>\n",
       "      <td>89.5</td>\n",
       "      <td>407.5</td>\n",
       "    </tr>\n",
       "    <tr>\n",
       "      <th>2016-03-01</th>\n",
       "      <td>2283.5</td>\n",
       "      <td>11.7</td>\n",
       "      <td>134.0</td>\n",
       "      <td>159.4</td>\n",
       "      <td>513.3</td>\n",
       "      <td>47.7</td>\n",
       "      <td>406.8</td>\n",
       "      <td>305.2</td>\n",
       "      <td>89.4</td>\n",
       "      <td>408.4</td>\n",
       "    </tr>\n",
       "    <tr>\n",
       "      <th>2016-04-01</th>\n",
       "      <td>2288.4</td>\n",
       "      <td>11.6</td>\n",
       "      <td>133.9</td>\n",
       "      <td>157.5</td>\n",
       "      <td>516.2</td>\n",
       "      <td>48.2</td>\n",
       "      <td>409.5</td>\n",
       "      <td>304.7</td>\n",
       "      <td>89.0</td>\n",
       "      <td>408.6</td>\n",
       "    </tr>\n",
       "    <tr>\n",
       "      <th>2016-05-01</th>\n",
       "      <td>2286.0</td>\n",
       "      <td>11.7</td>\n",
       "      <td>134.6</td>\n",
       "      <td>159.0</td>\n",
       "      <td>517.0</td>\n",
       "      <td>47.9</td>\n",
       "      <td>406.2</td>\n",
       "      <td>305.0</td>\n",
       "      <td>88.1</td>\n",
       "      <td>404.4</td>\n",
       "    </tr>\n",
       "    <tr>\n",
       "      <th>2016-05-01</th>\n",
       "      <td>2286.0</td>\n",
       "      <td>11.7</td>\n",
       "      <td>134.6</td>\n",
       "      <td>159.0</td>\n",
       "      <td>517.0</td>\n",
       "      <td>47.9</td>\n",
       "      <td>406.2</td>\n",
       "      <td>305.0</td>\n",
       "      <td>88.1</td>\n",
       "      <td>404.4</td>\n",
       "    </tr>\n",
       "    <tr>\n",
       "      <th>2016-05-01</th>\n",
       "      <td>2286.0</td>\n",
       "      <td>11.7</td>\n",
       "      <td>134.6</td>\n",
       "      <td>159.0</td>\n",
       "      <td>517.0</td>\n",
       "      <td>47.9</td>\n",
       "      <td>406.2</td>\n",
       "      <td>305.0</td>\n",
       "      <td>88.1</td>\n",
       "      <td>404.4</td>\n",
       "    </tr>\n",
       "    <tr>\n",
       "      <th>2016-05-01</th>\n",
       "      <td>2286.0</td>\n",
       "      <td>11.7</td>\n",
       "      <td>134.6</td>\n",
       "      <td>159.0</td>\n",
       "      <td>517.0</td>\n",
       "      <td>47.9</td>\n",
       "      <td>406.2</td>\n",
       "      <td>305.0</td>\n",
       "      <td>88.1</td>\n",
       "      <td>404.4</td>\n",
       "    </tr>\n",
       "    <tr>\n",
       "      <th>2016-05-01</th>\n",
       "      <td>2286.0</td>\n",
       "      <td>11.7</td>\n",
       "      <td>134.6</td>\n",
       "      <td>159.0</td>\n",
       "      <td>517.0</td>\n",
       "      <td>47.9</td>\n",
       "      <td>406.2</td>\n",
       "      <td>305.0</td>\n",
       "      <td>88.1</td>\n",
       "      <td>404.4</td>\n",
       "    </tr>\n",
       "    <tr>\n",
       "      <th>2016-05-01</th>\n",
       "      <td>2286.0</td>\n",
       "      <td>11.7</td>\n",
       "      <td>134.6</td>\n",
       "      <td>159.0</td>\n",
       "      <td>517.0</td>\n",
       "      <td>47.9</td>\n",
       "      <td>406.2</td>\n",
       "      <td>305.0</td>\n",
       "      <td>88.1</td>\n",
       "      <td>404.4</td>\n",
       "    </tr>\n",
       "    <tr>\n",
       "      <th>2016-05-01</th>\n",
       "      <td>2286.0</td>\n",
       "      <td>11.7</td>\n",
       "      <td>134.6</td>\n",
       "      <td>159.0</td>\n",
       "      <td>517.0</td>\n",
       "      <td>47.9</td>\n",
       "      <td>406.2</td>\n",
       "      <td>305.0</td>\n",
       "      <td>88.1</td>\n",
       "      <td>404.4</td>\n",
       "    </tr>\n",
       "    <tr>\n",
       "      <th>2016-05-01</th>\n",
       "      <td>2286.0</td>\n",
       "      <td>11.7</td>\n",
       "      <td>134.6</td>\n",
       "      <td>159.0</td>\n",
       "      <td>517.0</td>\n",
       "      <td>47.9</td>\n",
       "      <td>406.2</td>\n",
       "      <td>305.0</td>\n",
       "      <td>88.1</td>\n",
       "      <td>404.4</td>\n",
       "    </tr>\n",
       "    <tr>\n",
       "      <th>2016-05-01</th>\n",
       "      <td>2286.0</td>\n",
       "      <td>11.7</td>\n",
       "      <td>134.6</td>\n",
       "      <td>159.0</td>\n",
       "      <td>517.0</td>\n",
       "      <td>47.9</td>\n",
       "      <td>406.2</td>\n",
       "      <td>305.0</td>\n",
       "      <td>88.1</td>\n",
       "      <td>404.4</td>\n",
       "    </tr>\n",
       "    <tr>\n",
       "      <th>2016-05-01</th>\n",
       "      <td>2286.0</td>\n",
       "      <td>11.7</td>\n",
       "      <td>134.6</td>\n",
       "      <td>159.0</td>\n",
       "      <td>517.0</td>\n",
       "      <td>47.9</td>\n",
       "      <td>406.2</td>\n",
       "      <td>305.0</td>\n",
       "      <td>88.1</td>\n",
       "      <td>404.4</td>\n",
       "    </tr>\n",
       "    <tr>\n",
       "      <th>2016-05-01</th>\n",
       "      <td>2286.0</td>\n",
       "      <td>11.7</td>\n",
       "      <td>134.6</td>\n",
       "      <td>159.0</td>\n",
       "      <td>517.0</td>\n",
       "      <td>47.9</td>\n",
       "      <td>406.2</td>\n",
       "      <td>305.0</td>\n",
       "      <td>88.1</td>\n",
       "      <td>404.4</td>\n",
       "    </tr>\n",
       "    <tr>\n",
       "      <th>2016-05-01</th>\n",
       "      <td>2286.0</td>\n",
       "      <td>11.7</td>\n",
       "      <td>134.6</td>\n",
       "      <td>159.0</td>\n",
       "      <td>517.0</td>\n",
       "      <td>47.9</td>\n",
       "      <td>406.2</td>\n",
       "      <td>305.0</td>\n",
       "      <td>88.1</td>\n",
       "      <td>404.4</td>\n",
       "    </tr>\n",
       "    <tr>\n",
       "      <th>2016-05-01</th>\n",
       "      <td>2286.0</td>\n",
       "      <td>11.7</td>\n",
       "      <td>134.6</td>\n",
       "      <td>159.0</td>\n",
       "      <td>517.0</td>\n",
       "      <td>47.9</td>\n",
       "      <td>406.2</td>\n",
       "      <td>305.0</td>\n",
       "      <td>88.1</td>\n",
       "      <td>404.4</td>\n",
       "    </tr>\n",
       "    <tr>\n",
       "      <th>2016-05-01</th>\n",
       "      <td>2286.0</td>\n",
       "      <td>11.7</td>\n",
       "      <td>134.6</td>\n",
       "      <td>159.0</td>\n",
       "      <td>517.0</td>\n",
       "      <td>47.9</td>\n",
       "      <td>406.2</td>\n",
       "      <td>305.0</td>\n",
       "      <td>88.1</td>\n",
       "      <td>404.4</td>\n",
       "    </tr>\n",
       "    <tr>\n",
       "      <th>2016-05-01</th>\n",
       "      <td>2286.0</td>\n",
       "      <td>11.7</td>\n",
       "      <td>134.6</td>\n",
       "      <td>159.0</td>\n",
       "      <td>517.0</td>\n",
       "      <td>47.9</td>\n",
       "      <td>406.2</td>\n",
       "      <td>305.0</td>\n",
       "      <td>88.1</td>\n",
       "      <td>404.4</td>\n",
       "    </tr>\n",
       "    <tr>\n",
       "      <th>2016-05-01</th>\n",
       "      <td>2286.0</td>\n",
       "      <td>11.7</td>\n",
       "      <td>134.6</td>\n",
       "      <td>159.0</td>\n",
       "      <td>517.0</td>\n",
       "      <td>47.9</td>\n",
       "      <td>406.2</td>\n",
       "      <td>305.0</td>\n",
       "      <td>88.1</td>\n",
       "      <td>404.4</td>\n",
       "    </tr>\n",
       "    <tr>\n",
       "      <th>2016-05-01</th>\n",
       "      <td>2286.0</td>\n",
       "      <td>11.7</td>\n",
       "      <td>134.6</td>\n",
       "      <td>159.0</td>\n",
       "      <td>517.0</td>\n",
       "      <td>47.9</td>\n",
       "      <td>406.2</td>\n",
       "      <td>305.0</td>\n",
       "      <td>88.1</td>\n",
       "      <td>404.4</td>\n",
       "    </tr>\n",
       "    <tr>\n",
       "      <th>2016-05-01</th>\n",
       "      <td>2286.0</td>\n",
       "      <td>11.7</td>\n",
       "      <td>134.6</td>\n",
       "      <td>159.0</td>\n",
       "      <td>517.0</td>\n",
       "      <td>47.9</td>\n",
       "      <td>406.2</td>\n",
       "      <td>305.0</td>\n",
       "      <td>88.1</td>\n",
       "      <td>404.4</td>\n",
       "    </tr>\n",
       "    <tr>\n",
       "      <th>2016-05-01</th>\n",
       "      <td>2286.0</td>\n",
       "      <td>11.7</td>\n",
       "      <td>134.6</td>\n",
       "      <td>159.0</td>\n",
       "      <td>517.0</td>\n",
       "      <td>47.9</td>\n",
       "      <td>406.2</td>\n",
       "      <td>305.0</td>\n",
       "      <td>88.1</td>\n",
       "      <td>404.4</td>\n",
       "    </tr>\n",
       "    <tr>\n",
       "      <th>2016-05-01</th>\n",
       "      <td>2286.0</td>\n",
       "      <td>11.7</td>\n",
       "      <td>134.6</td>\n",
       "      <td>159.0</td>\n",
       "      <td>517.0</td>\n",
       "      <td>47.9</td>\n",
       "      <td>406.2</td>\n",
       "      <td>305.0</td>\n",
       "      <td>88.1</td>\n",
       "      <td>404.4</td>\n",
       "    </tr>\n",
       "    <tr>\n",
       "      <th>2016-05-01</th>\n",
       "      <td>2286.0</td>\n",
       "      <td>11.7</td>\n",
       "      <td>134.6</td>\n",
       "      <td>159.0</td>\n",
       "      <td>517.0</td>\n",
       "      <td>47.9</td>\n",
       "      <td>406.2</td>\n",
       "      <td>305.0</td>\n",
       "      <td>88.1</td>\n",
       "      <td>404.4</td>\n",
       "    </tr>\n",
       "    <tr>\n",
       "      <th>2016-05-01</th>\n",
       "      <td>NaN</td>\n",
       "      <td>11.7</td>\n",
       "      <td>134.6</td>\n",
       "      <td>159.0</td>\n",
       "      <td>517.0</td>\n",
       "      <td>47.9</td>\n",
       "      <td>406.2</td>\n",
       "      <td>305.0</td>\n",
       "      <td>88.1</td>\n",
       "      <td>404.4</td>\n",
       "    </tr>\n",
       "    <tr>\n",
       "      <th>2016-05-01</th>\n",
       "      <td>2286.0</td>\n",
       "      <td>11.7</td>\n",
       "      <td>134.6</td>\n",
       "      <td>159.0</td>\n",
       "      <td>517.0</td>\n",
       "      <td>47.9</td>\n",
       "      <td>406.2</td>\n",
       "      <td>305.0</td>\n",
       "      <td>88.1</td>\n",
       "      <td>404.4</td>\n",
       "    </tr>\n",
       "    <tr>\n",
       "      <th>2016-05-01</th>\n",
       "      <td>2286.0</td>\n",
       "      <td>11.7</td>\n",
       "      <td>134.6</td>\n",
       "      <td>159.0</td>\n",
       "      <td>517.0</td>\n",
       "      <td>47.9</td>\n",
       "      <td>406.2</td>\n",
       "      <td>305.0</td>\n",
       "      <td>88.1</td>\n",
       "      <td>404.4</td>\n",
       "    </tr>\n",
       "    <tr>\n",
       "      <th>2016-06-01</th>\n",
       "      <td>2299.8</td>\n",
       "      <td>11.9</td>\n",
       "      <td>137.5</td>\n",
       "      <td>160.2</td>\n",
       "      <td>518.7</td>\n",
       "      <td>48.0</td>\n",
       "      <td>408.6</td>\n",
       "      <td>304.3</td>\n",
       "      <td>88.3</td>\n",
       "      <td>400.3</td>\n",
       "    </tr>\n",
       "    <tr>\n",
       "      <th>2016-07-01</th>\n",
       "      <td>2300.9</td>\n",
       "      <td>11.5</td>\n",
       "      <td>138.4</td>\n",
       "      <td>159.5</td>\n",
       "      <td>519.0</td>\n",
       "      <td>47.1</td>\n",
       "      <td>409.8</td>\n",
       "      <td>307.0</td>\n",
       "      <td>87.0</td>\n",
       "      <td>403.6</td>\n",
       "    </tr>\n",
       "  </tbody>\n",
       "</table>\n",
       "<p>468 rows × 10 columns</p>\n",
       "</div>"
      ],
      "text/plain": [
       "            SMS04000000500000001  SMS04000001000000001  SMS04000002000000001  \\\n",
       "Date                                                                           \n",
       "1990-01-01                   NaN                   NaN                  85.4   \n",
       "1990-01-01                1207.7                  12.4                  85.4   \n",
       "1990-02-01                1208.3                  12.4                  85.4   \n",
       "2005-12-01                2169.2                   9.0                 233.5   \n",
       "1990-03-01                1210.4                  12.5                  85.3   \n",
       "1990-04-01                1213.7                  12.4                  84.8   \n",
       "1990-05-01                1211.5                  12.4                  84.0   \n",
       "1990-05-01                1211.5                  12.4                  84.0   \n",
       "1990-05-01                1211.5                  12.4                  84.0   \n",
       "1990-05-01                1211.5                  12.4                  84.0   \n",
       "1990-05-01                1211.5                  12.4                  84.0   \n",
       "1990-05-01                1211.5                  12.4                  84.0   \n",
       "1990-05-01                1211.5                  12.4                  84.0   \n",
       "1990-05-01                1211.5                  12.4                  84.0   \n",
       "1990-05-01                1211.5                  12.4                  84.0   \n",
       "1990-05-01                1211.5                  12.4                  84.0   \n",
       "1990-05-01                1211.5                  12.4                  84.0   \n",
       "1990-05-01                1211.5                  12.4                  84.0   \n",
       "1990-05-01                1211.5                  12.4                  84.0   \n",
       "1990-05-01                1211.5                  12.4                  84.0   \n",
       "1990-05-01                1211.5                  12.4                  84.0   \n",
       "1990-06-01                1212.5                  12.5                  83.7   \n",
       "1990-07-01                1211.0                  12.6                  83.6   \n",
       "1990-08-01                1210.8                  12.6                  83.6   \n",
       "1990-09-01                1211.9                  12.8                  84.5   \n",
       "1990-10-01                1210.6                  12.7                  84.5   \n",
       "1990-10-01                1210.6                  12.7                  84.5   \n",
       "1990-10-01                1210.6                  12.7                  84.5   \n",
       "1990-10-01                1210.6                  12.7                  84.5   \n",
       "1990-10-01                1210.6                  12.7                  84.5   \n",
       "...                          ...                   ...                   ...   \n",
       "2016-01-01                2279.9                  11.7                 131.8   \n",
       "2016-02-01                2281.4                  11.6                 132.5   \n",
       "2016-03-01                2283.5                  11.7                 134.0   \n",
       "2016-04-01                2288.4                  11.6                 133.9   \n",
       "2016-05-01                2286.0                  11.7                 134.6   \n",
       "2016-05-01                2286.0                  11.7                 134.6   \n",
       "2016-05-01                2286.0                  11.7                 134.6   \n",
       "2016-05-01                2286.0                  11.7                 134.6   \n",
       "2016-05-01                2286.0                  11.7                 134.6   \n",
       "2016-05-01                2286.0                  11.7                 134.6   \n",
       "2016-05-01                2286.0                  11.7                 134.6   \n",
       "2016-05-01                2286.0                  11.7                 134.6   \n",
       "2016-05-01                2286.0                  11.7                 134.6   \n",
       "2016-05-01                2286.0                  11.7                 134.6   \n",
       "2016-05-01                2286.0                  11.7                 134.6   \n",
       "2016-05-01                2286.0                  11.7                 134.6   \n",
       "2016-05-01                2286.0                  11.7                 134.6   \n",
       "2016-05-01                2286.0                  11.7                 134.6   \n",
       "2016-05-01                2286.0                  11.7                 134.6   \n",
       "2016-05-01                2286.0                  11.7                 134.6   \n",
       "2016-05-01                2286.0                  11.7                 134.6   \n",
       "2016-05-01                2286.0                  11.7                 134.6   \n",
       "2016-05-01                2286.0                  11.7                 134.6   \n",
       "2016-05-01                2286.0                  11.7                 134.6   \n",
       "2016-05-01                2286.0                  11.7                 134.6   \n",
       "2016-05-01                   NaN                  11.7                 134.6   \n",
       "2016-05-01                2286.0                  11.7                 134.6   \n",
       "2016-05-01                2286.0                  11.7                 134.6   \n",
       "2016-06-01                2299.8                  11.9                 137.5   \n",
       "2016-07-01                2300.9                  11.5                 138.4   \n",
       "\n",
       "            SMS04000003000000001  SMS04000004000000001  SMS04000005000000001  \\\n",
       "Date                                                                           \n",
       "1990-01-01                 177.5                 310.9                  32.6   \n",
       "1990-01-01                 177.5                 310.9                  32.6   \n",
       "1990-02-01                 177.6                 311.4                  32.5   \n",
       "2005-12-01                 185.1                 500.7                  45.6   \n",
       "1990-03-01                 177.3                 312.4                  32.2   \n",
       "1990-04-01                 176.5                 311.4                  33.6   \n",
       "1990-05-01                 176.7                 311.4                  33.4   \n",
       "1990-05-01                 176.7                 311.4                  33.4   \n",
       "1990-05-01                 176.7                 311.4                  33.4   \n",
       "1990-05-01                 176.7                 311.4                  33.4   \n",
       "1990-05-01                 176.7                 311.4                  33.4   \n",
       "1990-05-01                 176.7                 311.4                  33.4   \n",
       "1990-05-01                 176.7                 311.4                  33.4   \n",
       "1990-05-01                 176.7                 311.4                  33.4   \n",
       "1990-05-01                 176.7                 311.4                  33.4   \n",
       "1990-05-01                 176.7                 311.4                  33.4   \n",
       "1990-05-01                 176.7                 311.4                  33.4   \n",
       "1990-05-01                 176.7                 311.4                  33.4   \n",
       "1990-05-01                 176.7                 311.4                  33.4   \n",
       "1990-05-01                 176.7                 311.4                  33.4   \n",
       "1990-05-01                 176.7                 311.4                  33.4   \n",
       "1990-06-01                 176.7                 312.1                  33.3   \n",
       "1990-07-01                 177.2                 309.8                  33.0   \n",
       "1990-08-01                 176.6                 310.3                  32.8   \n",
       "1990-09-01                 175.9                 311.0                  32.7   \n",
       "1990-10-01                 175.6                 309.9                  32.4   \n",
       "1990-10-01                 175.6                 309.9                  32.4   \n",
       "1990-10-01                 175.6                 309.9                  32.4   \n",
       "1990-10-01                 175.6                 309.9                  32.4   \n",
       "1990-10-01                 175.6                 309.9                  32.4   \n",
       "...                          ...                   ...                   ...   \n",
       "2016-01-01                 161.7                 512.3                  48.1   \n",
       "2016-02-01                 159.6                 513.1                  47.5   \n",
       "2016-03-01                 159.4                 513.3                  47.7   \n",
       "2016-04-01                 157.5                 516.2                  48.2   \n",
       "2016-05-01                 159.0                 517.0                  47.9   \n",
       "2016-05-01                 159.0                 517.0                  47.9   \n",
       "2016-05-01                 159.0                 517.0                  47.9   \n",
       "2016-05-01                 159.0                 517.0                  47.9   \n",
       "2016-05-01                 159.0                 517.0                  47.9   \n",
       "2016-05-01                 159.0                 517.0                  47.9   \n",
       "2016-05-01                 159.0                 517.0                  47.9   \n",
       "2016-05-01                 159.0                 517.0                  47.9   \n",
       "2016-05-01                 159.0                 517.0                  47.9   \n",
       "2016-05-01                 159.0                 517.0                  47.9   \n",
       "2016-05-01                 159.0                 517.0                  47.9   \n",
       "2016-05-01                 159.0                 517.0                  47.9   \n",
       "2016-05-01                 159.0                 517.0                  47.9   \n",
       "2016-05-01                 159.0                 517.0                  47.9   \n",
       "2016-05-01                 159.0                 517.0                  47.9   \n",
       "2016-05-01                 159.0                 517.0                  47.9   \n",
       "2016-05-01                 159.0                 517.0                  47.9   \n",
       "2016-05-01                 159.0                 517.0                  47.9   \n",
       "2016-05-01                 159.0                 517.0                  47.9   \n",
       "2016-05-01                 159.0                 517.0                  47.9   \n",
       "2016-05-01                 159.0                 517.0                  47.9   \n",
       "2016-05-01                 159.0                 517.0                  47.9   \n",
       "2016-05-01                 159.0                 517.0                  47.9   \n",
       "2016-05-01                 159.0                 517.0                  47.9   \n",
       "2016-06-01                 160.2                 518.7                  48.0   \n",
       "2016-07-01                 159.5                 519.0                  47.1   \n",
       "\n",
       "            SMS04000006000000001  SMS04000007000000001  SMS04000008000000001  \\\n",
       "Date                                                                           \n",
       "1990-01-01                 142.2                 158.9                  55.1   \n",
       "1990-01-01                 142.2                 158.9                  55.1   \n",
       "1990-02-01                 141.2                 159.5                  55.3   \n",
       "2005-12-01                 376.7                 259.6                  93.2   \n",
       "1990-03-01                 142.6                 159.1                  55.3   \n",
       "1990-04-01                 142.5                 159.6                  58.1   \n",
       "1990-05-01                 141.4                 159.6                  58.0   \n",
       "1990-05-01                 141.4                 159.6                  58.0   \n",
       "1990-05-01                 141.4                 159.6                  58.0   \n",
       "1990-05-01                 141.4                 159.6                  58.0   \n",
       "1990-05-01                 141.4                 159.6                  58.0   \n",
       "1990-05-01                 141.4                 159.6                  58.0   \n",
       "1990-05-01                 141.4                 159.6                  58.0   \n",
       "1990-05-01                 141.4                 159.6                  58.0   \n",
       "1990-05-01                 141.4                 159.6                  58.0   \n",
       "1990-05-01                 141.4                 159.6                  58.0   \n",
       "1990-05-01                 141.4                 159.6                  58.0   \n",
       "1990-05-01                 141.4                 159.6                  58.0   \n",
       "1990-05-01                 141.4                 159.6                  58.0   \n",
       "1990-05-01                 141.4                 159.6                  58.0   \n",
       "1990-05-01                 141.4                 159.6                  58.0   \n",
       "1990-06-01                 142.3                 159.3                  57.8   \n",
       "1990-07-01                 145.5                 158.4                  57.4   \n",
       "1990-08-01                 144.0                 158.6                  58.0   \n",
       "1990-09-01                 143.8                 159.0                  58.2   \n",
       "1990-10-01                 143.0                 158.8                  59.7   \n",
       "1990-10-01                 143.0                 158.8                  59.7   \n",
       "1990-10-01                 143.0                 158.8                  59.7   \n",
       "1990-10-01                 143.0                 158.8                  59.7   \n",
       "1990-10-01                 143.0                 158.8                  59.7   \n",
       "...                          ...                   ...                   ...   \n",
       "2016-01-01                 411.6                 303.2                  89.5   \n",
       "2016-02-01                 411.5                 303.3                  89.5   \n",
       "2016-03-01                 406.8                 305.2                  89.4   \n",
       "2016-04-01                 409.5                 304.7                  89.0   \n",
       "2016-05-01                 406.2                 305.0                  88.1   \n",
       "2016-05-01                 406.2                 305.0                  88.1   \n",
       "2016-05-01                 406.2                 305.0                  88.1   \n",
       "2016-05-01                 406.2                 305.0                  88.1   \n",
       "2016-05-01                 406.2                 305.0                  88.1   \n",
       "2016-05-01                 406.2                 305.0                  88.1   \n",
       "2016-05-01                 406.2                 305.0                  88.1   \n",
       "2016-05-01                 406.2                 305.0                  88.1   \n",
       "2016-05-01                 406.2                 305.0                  88.1   \n",
       "2016-05-01                 406.2                 305.0                  88.1   \n",
       "2016-05-01                 406.2                 305.0                  88.1   \n",
       "2016-05-01                 406.2                 305.0                  88.1   \n",
       "2016-05-01                 406.2                 305.0                  88.1   \n",
       "2016-05-01                 406.2                 305.0                  88.1   \n",
       "2016-05-01                 406.2                 305.0                  88.1   \n",
       "2016-05-01                 406.2                 305.0                  88.1   \n",
       "2016-05-01                 406.2                 305.0                  88.1   \n",
       "2016-05-01                 406.2                 305.0                  88.1   \n",
       "2016-05-01                 406.2                 305.0                  88.1   \n",
       "2016-05-01                 406.2                 305.0                  88.1   \n",
       "2016-05-01                 406.2                 305.0                  88.1   \n",
       "2016-05-01                 406.2                 305.0                  88.1   \n",
       "2016-05-01                 406.2                 305.0                  88.1   \n",
       "2016-05-01                 406.2                 305.0                  88.1   \n",
       "2016-06-01                 408.6                 304.3                  88.3   \n",
       "2016-07-01                 409.8                 307.0                  87.0   \n",
       "\n",
       "            SMS04000009000000001  \n",
       "Date                              \n",
       "1990-01-01                 266.1  \n",
       "1990-01-01                 266.1  \n",
       "1990-02-01                 267.6  \n",
       "2005-12-01                 403.4  \n",
       "1990-03-01                 268.3  \n",
       "1990-04-01                 271.2  \n",
       "1990-05-01                 276.5  \n",
       "1990-05-01                 276.5  \n",
       "1990-05-01                 276.5  \n",
       "1990-05-01                 276.5  \n",
       "1990-05-01                 276.5  \n",
       "1990-05-01                 276.5  \n",
       "1990-05-01                 276.5  \n",
       "1990-05-01                 276.5  \n",
       "1990-05-01                 276.5  \n",
       "1990-05-01                 276.5  \n",
       "1990-05-01                 276.5  \n",
       "1990-05-01                 276.5  \n",
       "1990-05-01                 276.5  \n",
       "1990-05-01                 276.5  \n",
       "1990-05-01                 276.5  \n",
       "1990-06-01                 269.8  \n",
       "1990-07-01                 273.4  \n",
       "1990-08-01                 272.6  \n",
       "1990-09-01                 273.9  \n",
       "1990-10-01                 275.7  \n",
       "1990-10-01                 275.7  \n",
       "1990-10-01                 275.7  \n",
       "1990-10-01                 275.7  \n",
       "1990-10-01                 275.7  \n",
       "...                          ...  \n",
       "2016-01-01                 403.2  \n",
       "2016-02-01                 407.5  \n",
       "2016-03-01                 408.4  \n",
       "2016-04-01                 408.6  \n",
       "2016-05-01                 404.4  \n",
       "2016-05-01                 404.4  \n",
       "2016-05-01                 404.4  \n",
       "2016-05-01                 404.4  \n",
       "2016-05-01                 404.4  \n",
       "2016-05-01                 404.4  \n",
       "2016-05-01                 404.4  \n",
       "2016-05-01                 404.4  \n",
       "2016-05-01                 404.4  \n",
       "2016-05-01                 404.4  \n",
       "2016-05-01                 404.4  \n",
       "2016-05-01                 404.4  \n",
       "2016-05-01                 404.4  \n",
       "2016-05-01                 404.4  \n",
       "2016-05-01                 404.4  \n",
       "2016-05-01                 404.4  \n",
       "2016-05-01                 404.4  \n",
       "2016-05-01                 404.4  \n",
       "2016-05-01                 404.4  \n",
       "2016-05-01                 404.4  \n",
       "2016-05-01                 404.4  \n",
       "2016-05-01                 404.4  \n",
       "2016-05-01                 404.4  \n",
       "2016-05-01                 404.4  \n",
       "2016-06-01                 400.3  \n",
       "2016-07-01                 403.6  \n",
       "\n",
       "[468 rows x 10 columns]"
      ]
     },
     "execution_count": 23,
     "metadata": {},
     "output_type": "execute_result"
    }
   ],
   "source": [
    "AZemp = pd.read_csv('AZemp.txt')\n",
    "\n",
    "AZemp = pd.read_csv('AZemp.txt', sep = '\\t', index_col=[0], \n",
    "        parse_dates=True)\n",
    "AZemp\n",
    "\n",
    "#pd.read_csv?"
   ]
  },
  {
   "cell_type": "markdown",
   "metadata": {
    "slideshow": {
     "slide_type": "slide"
    }
   },
   "source": [
    "### Some attributes of a dataframe"
   ]
  },
  {
   "cell_type": "code",
   "execution_count": 24,
   "metadata": {
    "collapsed": false,
    "slideshow": {
     "slide_type": "fragment"
    }
   },
   "outputs": [
    {
     "data": {
      "text/plain": [
       "Index(['Tot_non_farm', 'Mining_logging', 'Construction', 'Manufacturing',\n",
       "       'Trade_trans_util', 'Information', 'Prof_bus_services', 'Leisure',\n",
       "       'Other_services', 'Government'],\n",
       "      dtype='object')"
      ]
     },
     "execution_count": 24,
     "metadata": {},
     "output_type": "execute_result"
    }
   ],
   "source": [
    "AZemp.columns\n",
    "AZemp.index\n",
    "# Rename some columns and change the attribute\n",
    "AZemp.columns = ['Tot_non_farm', 'Mining_logging', 'Construction', 'Manufacturing', \n",
    "                 'Trade_trans_util', 'Information', \n",
    "                 'Prof_bus_services', 'Leisure', 'Other_services', 'Government']\n",
    "AZemp.columns"
   ]
  },
  {
   "cell_type": "markdown",
   "metadata": {
    "slideshow": {
     "slide_type": "slide"
    }
   },
   "source": [
    "### Some methods to operated on the dataframe object"
   ]
  },
  {
   "cell_type": "code",
   "execution_count": 25,
   "metadata": {
    "collapsed": false,
    "slideshow": {
     "slide_type": "fragment"
    }
   },
   "outputs": [
    {
     "data": {
      "text/plain": [
       "Tot_non_farm         2300.9\n",
       "Mining_logging         14.5\n",
       "Construction          244.3\n",
       "Manufacturing         212.1\n",
       "Trade_trans_util      530.7\n",
       "Information            55.0\n",
       "Prof_bus_services     412.6\n",
       "Leisure               307.0\n",
       "Other_services        101.6\n",
       "Government            434.4\n",
       "dtype: float64"
      ]
     },
     "execution_count": 25,
     "metadata": {},
     "output_type": "execute_result"
    }
   ],
   "source": [
    "#a methods\n",
    "AZemp.max(axis = 0)"
   ]
  },
  {
   "cell_type": "markdown",
   "metadata": {
    "slideshow": {
     "slide_type": "fragment"
    }
   },
   "source": [
    "Attributes and methods for dataframes here\n",
    "http://pandas.pydata.org/pandas-docs/stable/generated/pandas.DataFrame.html\n"
   ]
  },
  {
   "cell_type": "markdown",
   "metadata": {
    "slideshow": {
     "slide_type": "slide"
    }
   },
   "source": [
    "## Matplotlib"
   ]
  },
  {
   "cell_type": "code",
   "execution_count": 26,
   "metadata": {
    "collapsed": true,
    "slideshow": {
     "slide_type": "fragment"
    }
   },
   "outputs": [],
   "source": [
    "#%matplotlib inline will allow us to see plots in the notebook\n",
    "%matplotlib inline\n",
    "import matplotlib.pyplot as plt"
   ]
  },
  {
   "cell_type": "markdown",
   "metadata": {
    "slideshow": {
     "slide_type": "slide"
    }
   },
   "source": [
    "### Matplotlib figure\n",
    "- Figures are the top level object where Axes objects live\n",
    "- Axes objects have the plotting methods and plot elements"
   ]
  },
  {
   "cell_type": "code",
   "execution_count": 27,
   "metadata": {
    "collapsed": false,
    "slideshow": {
     "slide_type": "slide"
    }
   },
   "outputs": [
    {
     "data": {
      "image/png": "[encoded data removed]",
      "text/plain": [
       "<matplotlib.figure.Figure at 0x1119a0160>"
      ]
     },
     "metadata": {},
     "output_type": "display_data"
    }
   ],
   "source": [
    "fig, ax = plt.subplots(1, figsize=(12,6))"
   ]
  },
  {
   "cell_type": "code",
   "execution_count": 28,
   "metadata": {
    "collapsed": false,
    "slideshow": {
     "slide_type": "slide"
    }
   },
   "outputs": [
    {
     "data": {
      "image/png": "[encoded data removed]",
      "text/plain": [
       "<matplotlib.figure.Figure at 0x114da4ba8>"
      ]
     },
     "metadata": {},
     "output_type": "display_data"
    }
   ],
   "source": [
    "#Many axes in one figure \n",
    "fig, axes = plt.subplots(3, 2, figsize=(12,6))"
   ]
  },
  {
   "cell_type": "code",
   "execution_count": 29,
   "metadata": {
    "collapsed": false,
    "slideshow": {
     "slide_type": "slide"
    }
   },
   "outputs": [
    {
     "data": {
      "image/png": "[encoded data removed]",
      "text/plain": [
       "<matplotlib.figure.Figure at 0x1157940b8>"
      ]
     },
     "metadata": {},
     "output_type": "display_data"
    }
   ],
   "source": [
    "#Many axes with names and something plotted\n",
    "fig, ((ax_ltop, ax_rtop), (ax_lmid, ax_rmid), (ax_lbottom, ax_rbottom)) = plt.subplots(3, 2, figsize=(12,6))\n",
    "ax_rtop.plot(np.random.randn(200));"
   ]
  },
  {
   "cell_type": "markdown",
   "metadata": {
    "slideshow": {
     "slide_type": "slide"
    }
   },
   "source": [
    "### More about matplotlib\n",
    "http://matplotlib.org/\n"
   ]
  },
  {
   "cell_type": "markdown",
   "metadata": {
    "slideshow": {
     "slide_type": "slide"
    }
   },
   "source": [
    "# Useful modules I know less about\n",
    "- quantecon\n",
    "- scipy\n",
    "- statsmodels\n",
    "- scikitlearn"
   ]
  },
  {
   "cell_type": "markdown",
   "metadata": {
    "slideshow": {
     "slide_type": "slide"
    }
   },
   "source": [
    "## Quantecon\n",
    "- https://quantecon.org/"
   ]
  },
  {
   "cell_type": "code",
   "execution_count": 30,
   "metadata": {
    "collapsed": false,
    "slideshow": {
     "slide_type": "fragment"
    }
   },
   "outputs": [],
   "source": [
    "import quantecon as qe\n",
    "#qe."
   ]
  },
  {
   "cell_type": "markdown",
   "metadata": {
    "slideshow": {
     "slide_type": "slide"
    }
   },
   "source": [
    "## Scipy\n",
    "-  https://docs.scipy.org/doc/scipy/reference/\n",
    "- optimization, interpolation, ... \n"
   ]
  },
  {
   "cell_type": "markdown",
   "metadata": {
    "slideshow": {
     "slide_type": "slide"
    }
   },
   "source": [
    "## Statsmodels \n",
    " - http://statsmodels.sourceforge.net/\n",
    " - Regression fun"
   ]
  },
  {
   "cell_type": "markdown",
   "metadata": {
    "slideshow": {
     "slide_type": "slide"
    }
   },
   "source": [
    "## Scikit-learn\n",
    "- http://scikit-learn.org/stable/\n",
    "- \"Machine learning\" tools "
   ]
  },
  {
   "cell_type": "markdown",
   "metadata": {
    "slideshow": {
     "slide_type": "slide"
    }
   },
   "source": [
    "### Warning\n",
    "- There is often more than one way to do the same thing\n",
    "- Check which module the docs are referring to!!"
   ]
  },
  {
   "cell_type": "markdown",
   "metadata": {
    "slideshow": {
     "slide_type": "slide"
    }
   },
   "source": [
    "## Ideas for the python group\n",
    "- Short presentations highlighting a module or a problem: \"lighting talks\"\n",
    "    - highlight the code, not the research \n",
    "- Set up a repository to share tutorial code and notebooks\n"
   ]
  },
  {
   "cell_type": "markdown",
   "metadata": {
    "slideshow": {
     "slide_type": "slide"
    }
   },
   "source": [
    "## parting comic\n",
    "<img src='images/python_comic.png'>"
   ]
  },
  {
   "cell_type": "markdown",
   "metadata": {
    "slideshow": {
     "slide_type": "slide"
    }
   },
   "source": [
    "# Python standard library\n",
    "-https://docs.python.org/3/library/index.html\n",
    "\n",
    "<img src='images/python_standard_functions.png'>"
   ]
  }
 ],
 "metadata": {
  "anaconda-cloud": {},
  "celltoolbar": "Slideshow",
  "kernelspec": {
   "display_name": "Python [Root]",
   "language": "python",
   "name": "Python [Root]"
  },
  "language_info": {
   "codemirror_mode": {
    "name": "ipython",
    "version": 3
   },
   "file_extension": ".py",
   "mimetype": "text/x-python",
   "name": "python",
   "nbconvert_exporter": "python",
   "pygments_lexer": "ipython3",
   "version": "3.5.1"
  },
  "nbpresent": {
   "slides": {
    "19612f56-55a5-4e8c-9132-b8609bb33dd3": {
     "id": "19612f56-55a5-4e8c-9132-b8609bb33dd3",
     "prev": null,
     "regions": {
      "64d6675b-6106-4ef2-b698-d57da8aa2cae": {
       "attrs": {
        "height": 0.8,
        "width": 0.45,
        "x": 0.05,
        "y": 0.1
       },
       "id": "64d6675b-6106-4ef2-b698-d57da8aa2cae"
      },
      "d5f41e62-8605-4cc3-bd3f-da9c44025e4b": {
       "attrs": {
        "height": 0.8,
        "width": 0.45,
        "x": 0.5,
        "y": 0.1
       },
       "id": "d5f41e62-8605-4cc3-bd3f-da9c44025e4b"
      }
     }
    }
   },
   "themes": {}
  }
 },
 "nbformat": 4,
 "nbformat_minor": 0
}
